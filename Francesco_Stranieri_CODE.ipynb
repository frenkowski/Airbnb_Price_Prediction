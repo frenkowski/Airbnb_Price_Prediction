{
  "nbformat": 4,
  "nbformat_minor": 0,
  "metadata": {
    "colab": {
      "name": "AML_Stranieri_816551_Assignment_1.ipynb",
      "provenance": [],
      "collapsed_sections": [
        "k-DSIxrFLc3n",
        "BQfQu8uyOttb",
        "NlbaWHYyPDxF",
        "7JuqEWQV6cHz",
        "KeKKLxHnzr2N",
        "HjGiDyO1z5Jf"
      ]
    },
    "kernelspec": {
      "name": "python3",
      "display_name": "Python 3"
    },
    "accelerator": "GPU"
  },
  "cells": [
    {
      "cell_type": "markdown",
      "metadata": {
        "id": "k-DSIxrFLc3n"
      },
      "source": [
        "## Import Library and Mount Google Drive"
      ]
    },
    {
      "cell_type": "code",
      "metadata": {
        "id": "iKYhWsI-Howy"
      },
      "source": [
        "from keras import *\n",
        "import tensorflow as tf\n",
        "import pandas as pd\n",
        "import numpy as np\n",
        "from sklearn.model_selection import train_test_split\n",
        "from sklearn.preprocessing import MinMaxScaler\n",
        "import matplotlib.pyplot as plt\n",
        "plt.style.use('dark_background')\n",
        "from keras.layers import Activation, LeakyReLU, Dropout\n",
        "from tensorflow.keras.activations import sigmoid\n",
        "from keras.utils.generic_utils import get_custom_objects\n",
        "from keras import backend as K\n",
        "from sklearn.preprocessing import StandardScaler\n",
        "import os \n",
        "import statistics"
      ],
      "execution_count": 1,
      "outputs": []
    },
    {
      "cell_type": "code",
      "metadata": {
        "id": "6Ctclw6yxAy2"
      },
      "source": [
        "# seed for reproducible results\n",
        "seed_value= 2020\n",
        "os.environ['PYTHONHASHSEED']=str(seed_value)\n",
        "np.random.seed(seed_value)\n",
        "tf.random.set_seed(seed_value)"
      ],
      "execution_count": 2,
      "outputs": []
    },
    {
      "cell_type": "code",
      "metadata": {
        "id": "6fVZLfZfIf4e",
        "outputId": "77d2e5b5-2573-46e2-96bf-23238afb421c",
        "colab": {
          "base_uri": "https://localhost:8080/",
          "height": 34
        }
      },
      "source": [
        "# commands for google colab\n",
        "from google.colab import drive\n",
        "drive.mount('/content/drive', force_remount=True)\n",
        "os.chdir('/content/drive/My Drive/AML')\n",
        "train_folder = \"Train_Assignment_1/\""
      ],
      "execution_count": 3,
      "outputs": [
        {
          "output_type": "stream",
          "text": [
            "Mounted at /content/drive\n"
          ],
          "name": "stdout"
        }
      ]
    },
    {
      "cell_type": "code",
      "metadata": {
        "id": "exOwHh5thdfg",
        "outputId": "dc391998-ebd3-4060-b9bd-301009567038",
        "colab": {
          "base_uri": "https://localhost:8080/",
          "height": 1000
        }
      },
      "source": [
        "!python setup.py install"
      ],
      "execution_count": 4,
      "outputs": [
        {
          "output_type": "stream",
          "text": [
            "running install\n",
            "running bdist_egg\n",
            "running egg_info\n",
            "writing keras_lr_finder.egg-info/PKG-INFO\n",
            "writing dependency_links to keras_lr_finder.egg-info/dependency_links.txt\n",
            "writing requirements to keras_lr_finder.egg-info/requires.txt\n",
            "writing top-level names to keras_lr_finder.egg-info/top_level.txt\n",
            "reading manifest file 'keras_lr_finder.egg-info/SOURCES.txt'\n",
            "writing manifest file 'keras_lr_finder.egg-info/SOURCES.txt'\n",
            "installing library code to build/bdist.linux-x86_64/egg\n",
            "running install_lib\n",
            "running build_py\n",
            "creating build/bdist.linux-x86_64/egg\n",
            "creating build/bdist.linux-x86_64/egg/keras_lr_finder\n",
            "copying build/lib/keras_lr_finder/__init__.py -> build/bdist.linux-x86_64/egg/keras_lr_finder\n",
            "copying build/lib/keras_lr_finder/lr_finder.py -> build/bdist.linux-x86_64/egg/keras_lr_finder\n",
            "byte-compiling build/bdist.linux-x86_64/egg/keras_lr_finder/__init__.py to __init__.cpython-36.pyc\n",
            "byte-compiling build/bdist.linux-x86_64/egg/keras_lr_finder/lr_finder.py to lr_finder.cpython-36.pyc\n",
            "creating build/bdist.linux-x86_64/egg/EGG-INFO\n",
            "copying keras_lr_finder.egg-info/PKG-INFO -> build/bdist.linux-x86_64/egg/EGG-INFO\n",
            "copying keras_lr_finder.egg-info/SOURCES.txt -> build/bdist.linux-x86_64/egg/EGG-INFO\n",
            "copying keras_lr_finder.egg-info/dependency_links.txt -> build/bdist.linux-x86_64/egg/EGG-INFO\n",
            "copying keras_lr_finder.egg-info/not-zip-safe -> build/bdist.linux-x86_64/egg/EGG-INFO\n",
            "copying keras_lr_finder.egg-info/requires.txt -> build/bdist.linux-x86_64/egg/EGG-INFO\n",
            "copying keras_lr_finder.egg-info/top_level.txt -> build/bdist.linux-x86_64/egg/EGG-INFO\n",
            "creating 'dist/keras_lr_finder-0.1-py3.6.egg' and adding 'build/bdist.linux-x86_64/egg' to it\n",
            "removing 'build/bdist.linux-x86_64/egg' (and everything under it)\n",
            "Processing keras_lr_finder-0.1-py3.6.egg\n",
            "removing '/usr/local/lib/python3.6/dist-packages/keras_lr_finder-0.1-py3.6.egg' (and everything under it)\n",
            "creating /usr/local/lib/python3.6/dist-packages/keras_lr_finder-0.1-py3.6.egg\n",
            "Extracting keras_lr_finder-0.1-py3.6.egg to /usr/local/lib/python3.6/dist-packages\n",
            "keras-lr-finder 0.1 is already the active version in easy-install.pth\n",
            "\n",
            "Installed /usr/local/lib/python3.6/dist-packages/keras_lr_finder-0.1-py3.6.egg\n",
            "Processing dependencies for keras-lr-finder==0.1\n",
            "Searching for matplotlib==3.2.2\n",
            "Best match: matplotlib 3.2.2\n",
            "Adding matplotlib 3.2.2 to easy-install.pth file\n",
            "\n",
            "Using /usr/local/lib/python3.6/dist-packages\n",
            "Searching for Keras==2.4.3\n",
            "Best match: Keras 2.4.3\n",
            "Adding Keras 2.4.3 to easy-install.pth file\n",
            "\n",
            "Using /usr/local/lib/python3.6/dist-packages\n",
            "Searching for kiwisolver==1.2.0\n",
            "Best match: kiwisolver 1.2.0\n",
            "Adding kiwisolver 1.2.0 to easy-install.pth file\n",
            "\n",
            "Using /usr/local/lib/python3.6/dist-packages\n",
            "Searching for numpy==1.18.5\n",
            "Best match: numpy 1.18.5\n",
            "Adding numpy 1.18.5 to easy-install.pth file\n",
            "Installing f2py script to /usr/local/bin\n",
            "Installing f2py3 script to /usr/local/bin\n",
            "Installing f2py3.6 script to /usr/local/bin\n",
            "\n",
            "Using /usr/local/lib/python3.6/dist-packages\n",
            "Searching for python-dateutil==2.8.1\n",
            "Best match: python-dateutil 2.8.1\n",
            "Adding python-dateutil 2.8.1 to easy-install.pth file\n",
            "\n",
            "Using /usr/local/lib/python3.6/dist-packages\n",
            "Searching for pyparsing==2.4.7\n",
            "Best match: pyparsing 2.4.7\n",
            "Adding pyparsing 2.4.7 to easy-install.pth file\n",
            "\n",
            "Using /usr/local/lib/python3.6/dist-packages\n",
            "Searching for cycler==0.10.0\n",
            "Best match: cycler 0.10.0\n",
            "Adding cycler 0.10.0 to easy-install.pth file\n",
            "\n",
            "Using /usr/local/lib/python3.6/dist-packages\n",
            "Searching for h5py==2.10.0\n",
            "Best match: h5py 2.10.0\n",
            "Adding h5py 2.10.0 to easy-install.pth file\n",
            "\n",
            "Using /usr/local/lib/python3.6/dist-packages\n",
            "Searching for PyYAML==3.13\n",
            "Best match: PyYAML 3.13\n",
            "Adding PyYAML 3.13 to easy-install.pth file\n",
            "\n",
            "Using /usr/local/lib/python3.6/dist-packages\n",
            "Searching for scipy==1.4.1\n",
            "Best match: scipy 1.4.1\n",
            "Adding scipy 1.4.1 to easy-install.pth file\n",
            "\n",
            "Using /usr/local/lib/python3.6/dist-packages\n",
            "Searching for six==1.15.0\n",
            "Best match: six 1.15.0\n",
            "Adding six 1.15.0 to easy-install.pth file\n",
            "\n",
            "Using /usr/local/lib/python3.6/dist-packages\n",
            "Finished processing dependencies for keras-lr-finder==0.1\n"
          ],
          "name": "stdout"
        }
      ]
    },
    {
      "cell_type": "markdown",
      "metadata": {
        "id": "ABqXFi-tSRQF"
      },
      "source": [
        "## Preprocessing"
      ]
    },
    {
      "cell_type": "markdown",
      "metadata": {
        "id": "BQfQu8uyOttb"
      },
      "source": [
        "### read CSV dataset"
      ]
    },
    {
      "cell_type": "code",
      "metadata": {
        "id": "EvZIjPTdIsRH"
      },
      "source": [
        "train = pd.read_csv(train_folder+\"X_train.csv\")\n",
        "train_label = pd.read_csv(train_folder+\"y_train.csv\")\n",
        "test = pd.read_csv(train_folder+\"X_test.csv\")"
      ],
      "execution_count": 5,
      "outputs": []
    },
    {
      "cell_type": "code",
      "metadata": {
        "id": "E2AHDLcXJu_X",
        "outputId": "57807d45-1e9c-4b61-b639-91882e2305bd",
        "colab": {
          "base_uri": "https://localhost:8080/",
          "height": 406
        }
      },
      "source": [
        "train"
      ],
      "execution_count": 6,
      "outputs": [
        {
          "output_type": "execute_result",
          "data": {
            "text/html": [
              "<div>\n",
              "<style scoped>\n",
              "    .dataframe tbody tr th:only-of-type {\n",
              "        vertical-align: middle;\n",
              "    }\n",
              "\n",
              "    .dataframe tbody tr th {\n",
              "        vertical-align: top;\n",
              "    }\n",
              "\n",
              "    .dataframe thead th {\n",
              "        text-align: right;\n",
              "    }\n",
              "</style>\n",
              "<table border=\"1\" class=\"dataframe\">\n",
              "  <thead>\n",
              "    <tr style=\"text-align: right;\">\n",
              "      <th></th>\n",
              "      <th>Unnamed: 0</th>\n",
              "      <th>latitude</th>\n",
              "      <th>longitude</th>\n",
              "      <th>minimum_nights</th>\n",
              "      <th>number_of_reviews</th>\n",
              "      <th>reviews_per_month</th>\n",
              "      <th>calculated_host_listings_count</th>\n",
              "      <th>availability_365</th>\n",
              "      <th>Private_room</th>\n",
              "      <th>Entire_home/apt</th>\n",
              "    </tr>\n",
              "  </thead>\n",
              "  <tbody>\n",
              "    <tr>\n",
              "      <th>0</th>\n",
              "      <td>0</td>\n",
              "      <td>40.71239</td>\n",
              "      <td>-73.95271</td>\n",
              "      <td>4</td>\n",
              "      <td>2</td>\n",
              "      <td>0.19</td>\n",
              "      <td>1</td>\n",
              "      <td>0</td>\n",
              "      <td>1</td>\n",
              "      <td>0</td>\n",
              "    </tr>\n",
              "    <tr>\n",
              "      <th>1</th>\n",
              "      <td>1</td>\n",
              "      <td>40696.00000</td>\n",
              "      <td>-73.91303</td>\n",
              "      <td>4</td>\n",
              "      <td>17</td>\n",
              "      <td>0.66</td>\n",
              "      <td>2</td>\n",
              "      <td>307</td>\n",
              "      <td>1</td>\n",
              "      <td>0</td>\n",
              "    </tr>\n",
              "    <tr>\n",
              "      <th>2</th>\n",
              "      <td>2</td>\n",
              "      <td>40.62707</td>\n",
              "      <td>-74.02817</td>\n",
              "      <td>3</td>\n",
              "      <td>1</td>\n",
              "      <td>0.04</td>\n",
              "      <td>1</td>\n",
              "      <td>87</td>\n",
              "      <td>0</td>\n",
              "      <td>0</td>\n",
              "    </tr>\n",
              "    <tr>\n",
              "      <th>3</th>\n",
              "      <td>3</td>\n",
              "      <td>40.77910</td>\n",
              "      <td>-73.98565</td>\n",
              "      <td>1</td>\n",
              "      <td>4</td>\n",
              "      <td>0.08</td>\n",
              "      <td>1</td>\n",
              "      <td>0</td>\n",
              "      <td>0</td>\n",
              "      <td>1</td>\n",
              "    </tr>\n",
              "    <tr>\n",
              "      <th>4</th>\n",
              "      <td>4</td>\n",
              "      <td>40.75777</td>\n",
              "      <td>-73.93509</td>\n",
              "      <td>1</td>\n",
              "      <td>0</td>\n",
              "      <td>0.00</td>\n",
              "      <td>1</td>\n",
              "      <td>358</td>\n",
              "      <td>1</td>\n",
              "      <td>0</td>\n",
              "    </tr>\n",
              "    <tr>\n",
              "      <th>...</th>\n",
              "      <td>...</td>\n",
              "      <td>...</td>\n",
              "      <td>...</td>\n",
              "      <td>...</td>\n",
              "      <td>...</td>\n",
              "      <td>...</td>\n",
              "      <td>...</td>\n",
              "      <td>...</td>\n",
              "      <td>...</td>\n",
              "      <td>...</td>\n",
              "    </tr>\n",
              "    <tr>\n",
              "      <th>33879</th>\n",
              "      <td>33879</td>\n",
              "      <td>40.71187</td>\n",
              "      <td>-73.95864</td>\n",
              "      <td>1</td>\n",
              "      <td>0</td>\n",
              "      <td>0.00</td>\n",
              "      <td>2</td>\n",
              "      <td>0</td>\n",
              "      <td>1</td>\n",
              "      <td>0</td>\n",
              "    </tr>\n",
              "    <tr>\n",
              "      <th>33880</th>\n",
              "      <td>33880</td>\n",
              "      <td>40.74123</td>\n",
              "      <td>-73.90152</td>\n",
              "      <td>30</td>\n",
              "      <td>0</td>\n",
              "      <td>0.00</td>\n",
              "      <td>103</td>\n",
              "      <td>247</td>\n",
              "      <td>1</td>\n",
              "      <td>0</td>\n",
              "    </tr>\n",
              "    <tr>\n",
              "      <th>33881</th>\n",
              "      <td>33881</td>\n",
              "      <td>40.73375</td>\n",
              "      <td>-73.95570</td>\n",
              "      <td>2</td>\n",
              "      <td>3</td>\n",
              "      <td>0.23</td>\n",
              "      <td>1</td>\n",
              "      <td>0</td>\n",
              "      <td>1</td>\n",
              "      <td>0</td>\n",
              "    </tr>\n",
              "    <tr>\n",
              "      <th>33882</th>\n",
              "      <td>33882</td>\n",
              "      <td>40.73660</td>\n",
              "      <td>-73.92358</td>\n",
              "      <td>30</td>\n",
              "      <td>1</td>\n",
              "      <td>0.19</td>\n",
              "      <td>103</td>\n",
              "      <td>252</td>\n",
              "      <td>1</td>\n",
              "      <td>0</td>\n",
              "    </tr>\n",
              "    <tr>\n",
              "      <th>33883</th>\n",
              "      <td>33883</td>\n",
              "      <td>40.67191</td>\n",
              "      <td>-73.95265</td>\n",
              "      <td>5</td>\n",
              "      <td>1</td>\n",
              "      <td>0.02</td>\n",
              "      <td>1</td>\n",
              "      <td>0</td>\n",
              "      <td>0</td>\n",
              "      <td>1</td>\n",
              "    </tr>\n",
              "  </tbody>\n",
              "</table>\n",
              "<p>33884 rows × 10 columns</p>\n",
              "</div>"
            ],
            "text/plain": [
              "       Unnamed: 0     latitude  ...  Private_room  Entire_home/apt\n",
              "0               0     40.71239  ...             1                0\n",
              "1               1  40696.00000  ...             1                0\n",
              "2               2     40.62707  ...             0                0\n",
              "3               3     40.77910  ...             0                1\n",
              "4               4     40.75777  ...             1                0\n",
              "...           ...          ...  ...           ...              ...\n",
              "33879       33879     40.71187  ...             1                0\n",
              "33880       33880     40.74123  ...             1                0\n",
              "33881       33881     40.73375  ...             1                0\n",
              "33882       33882     40.73660  ...             1                0\n",
              "33883       33883     40.67191  ...             0                1\n",
              "\n",
              "[33884 rows x 10 columns]"
            ]
          },
          "metadata": {
            "tags": []
          },
          "execution_count": 6
        }
      ]
    },
    {
      "cell_type": "code",
      "metadata": {
        "id": "eNMz7ZrYKC_Y",
        "outputId": "8e276251-6637-40d8-f9ca-7c034453ec46",
        "colab": {
          "base_uri": "https://localhost:8080/",
          "height": 406
        }
      },
      "source": [
        "train_label"
      ],
      "execution_count": 7,
      "outputs": [
        {
          "output_type": "execute_result",
          "data": {
            "text/html": [
              "<div>\n",
              "<style scoped>\n",
              "    .dataframe tbody tr th:only-of-type {\n",
              "        vertical-align: middle;\n",
              "    }\n",
              "\n",
              "    .dataframe tbody tr th {\n",
              "        vertical-align: top;\n",
              "    }\n",
              "\n",
              "    .dataframe thead th {\n",
              "        text-align: right;\n",
              "    }\n",
              "</style>\n",
              "<table border=\"1\" class=\"dataframe\">\n",
              "  <thead>\n",
              "    <tr style=\"text-align: right;\">\n",
              "      <th></th>\n",
              "      <th>Unnamed: 0</th>\n",
              "      <th>price</th>\n",
              "    </tr>\n",
              "  </thead>\n",
              "  <tbody>\n",
              "    <tr>\n",
              "      <th>0</th>\n",
              "      <td>0</td>\n",
              "      <td>65</td>\n",
              "    </tr>\n",
              "    <tr>\n",
              "      <th>1</th>\n",
              "      <td>1</td>\n",
              "      <td>57</td>\n",
              "    </tr>\n",
              "    <tr>\n",
              "      <th>2</th>\n",
              "      <td>2</td>\n",
              "      <td>225</td>\n",
              "    </tr>\n",
              "    <tr>\n",
              "      <th>3</th>\n",
              "      <td>3</td>\n",
              "      <td>175</td>\n",
              "    </tr>\n",
              "    <tr>\n",
              "      <th>4</th>\n",
              "      <td>4</td>\n",
              "      <td>125</td>\n",
              "    </tr>\n",
              "    <tr>\n",
              "      <th>...</th>\n",
              "      <td>...</td>\n",
              "      <td>...</td>\n",
              "    </tr>\n",
              "    <tr>\n",
              "      <th>33879</th>\n",
              "      <td>33879</td>\n",
              "      <td>150</td>\n",
              "    </tr>\n",
              "    <tr>\n",
              "      <th>33880</th>\n",
              "      <td>33880</td>\n",
              "      <td>59</td>\n",
              "    </tr>\n",
              "    <tr>\n",
              "      <th>33881</th>\n",
              "      <td>33881</td>\n",
              "      <td>60</td>\n",
              "    </tr>\n",
              "    <tr>\n",
              "      <th>33882</th>\n",
              "      <td>33882</td>\n",
              "      <td>39</td>\n",
              "    </tr>\n",
              "    <tr>\n",
              "      <th>33883</th>\n",
              "      <td>33883</td>\n",
              "      <td>115</td>\n",
              "    </tr>\n",
              "  </tbody>\n",
              "</table>\n",
              "<p>33884 rows × 2 columns</p>\n",
              "</div>"
            ],
            "text/plain": [
              "       Unnamed: 0  price\n",
              "0               0     65\n",
              "1               1     57\n",
              "2               2    225\n",
              "3               3    175\n",
              "4               4    125\n",
              "...           ...    ...\n",
              "33879       33879    150\n",
              "33880       33880     59\n",
              "33881       33881     60\n",
              "33882       33882     39\n",
              "33883       33883    115\n",
              "\n",
              "[33884 rows x 2 columns]"
            ]
          },
          "metadata": {
            "tags": []
          },
          "execution_count": 7
        }
      ]
    },
    {
      "cell_type": "markdown",
      "metadata": {
        "id": "C8WI7jBuMX7l"
      },
      "source": [
        "### Data Cleaning"
      ]
    },
    {
      "cell_type": "markdown",
      "metadata": {
        "id": "WTuevQLX7S-Y"
      },
      "source": [
        "remove columns not useful"
      ]
    },
    {
      "cell_type": "code",
      "metadata": {
        "id": "OncNA4PDKO1x",
        "outputId": "363154a4-b722-41f3-a4be-7b50b5802eeb",
        "colab": {
          "base_uri": "https://localhost:8080/",
          "height": 307
        }
      },
      "source": [
        "train2 = pd.merge(train, train_label,  how='inner', on=['Unnamed: 0'])\n",
        "train2.drop(['Unnamed: 0'], axis=1, inplace=True)\n",
        "train2.describe()"
      ],
      "execution_count": 8,
      "outputs": [
        {
          "output_type": "execute_result",
          "data": {
            "text/html": [
              "<div>\n",
              "<style scoped>\n",
              "    .dataframe tbody tr th:only-of-type {\n",
              "        vertical-align: middle;\n",
              "    }\n",
              "\n",
              "    .dataframe tbody tr th {\n",
              "        vertical-align: top;\n",
              "    }\n",
              "\n",
              "    .dataframe thead th {\n",
              "        text-align: right;\n",
              "    }\n",
              "</style>\n",
              "<table border=\"1\" class=\"dataframe\">\n",
              "  <thead>\n",
              "    <tr style=\"text-align: right;\">\n",
              "      <th></th>\n",
              "      <th>latitude</th>\n",
              "      <th>longitude</th>\n",
              "      <th>minimum_nights</th>\n",
              "      <th>number_of_reviews</th>\n",
              "      <th>reviews_per_month</th>\n",
              "      <th>calculated_host_listings_count</th>\n",
              "      <th>availability_365</th>\n",
              "      <th>Private_room</th>\n",
              "      <th>Entire_home/apt</th>\n",
              "      <th>price</th>\n",
              "    </tr>\n",
              "  </thead>\n",
              "  <tbody>\n",
              "    <tr>\n",
              "      <th>count</th>\n",
              "      <td>33884.000000</td>\n",
              "      <td>33884.000000</td>\n",
              "      <td>33884.000000</td>\n",
              "      <td>33884.000000</td>\n",
              "      <td>33884.000000</td>\n",
              "      <td>33884.000000</td>\n",
              "      <td>33884.000000</td>\n",
              "      <td>33884.000000</td>\n",
              "      <td>33884.000000</td>\n",
              "      <td>33884.000000</td>\n",
              "    </tr>\n",
              "    <tr>\n",
              "      <th>mean</th>\n",
              "      <td>393.742123</td>\n",
              "      <td>-767.324528</td>\n",
              "      <td>7.109904</td>\n",
              "      <td>23.391778</td>\n",
              "      <td>1.095455</td>\n",
              "      <td>7.101080</td>\n",
              "      <td>112.995839</td>\n",
              "      <td>0.456085</td>\n",
              "      <td>0.520127</td>\n",
              "      <td>153.605389</td>\n",
              "    </tr>\n",
              "    <tr>\n",
              "      <th>std</th>\n",
              "      <td>3773.366411</td>\n",
              "      <td>7123.758128</td>\n",
              "      <td>20.234836</td>\n",
              "      <td>44.608022</td>\n",
              "      <td>1.610452</td>\n",
              "      <td>32.746915</td>\n",
              "      <td>131.641035</td>\n",
              "      <td>0.498075</td>\n",
              "      <td>0.499602</td>\n",
              "      <td>249.102710</td>\n",
              "    </tr>\n",
              "    <tr>\n",
              "      <th>min</th>\n",
              "      <td>40.499790</td>\n",
              "      <td>-74142.000000</td>\n",
              "      <td>1.000000</td>\n",
              "      <td>0.000000</td>\n",
              "      <td>0.000000</td>\n",
              "      <td>1.000000</td>\n",
              "      <td>0.000000</td>\n",
              "      <td>0.000000</td>\n",
              "      <td>0.000000</td>\n",
              "      <td>0.000000</td>\n",
              "    </tr>\n",
              "    <tr>\n",
              "      <th>25%</th>\n",
              "      <td>40.690427</td>\n",
              "      <td>-73.983503</td>\n",
              "      <td>1.000000</td>\n",
              "      <td>1.000000</td>\n",
              "      <td>0.040000</td>\n",
              "      <td>1.000000</td>\n",
              "      <td>0.000000</td>\n",
              "      <td>0.000000</td>\n",
              "      <td>0.000000</td>\n",
              "      <td>69.000000</td>\n",
              "    </tr>\n",
              "    <tr>\n",
              "      <th>50%</th>\n",
              "      <td>40.723645</td>\n",
              "      <td>-73.956025</td>\n",
              "      <td>3.000000</td>\n",
              "      <td>5.000000</td>\n",
              "      <td>0.370000</td>\n",
              "      <td>1.000000</td>\n",
              "      <td>45.000000</td>\n",
              "      <td>0.000000</td>\n",
              "      <td>1.000000</td>\n",
              "      <td>106.000000</td>\n",
              "    </tr>\n",
              "    <tr>\n",
              "      <th>75%</th>\n",
              "      <td>40.763910</td>\n",
              "      <td>-73.937005</td>\n",
              "      <td>5.000000</td>\n",
              "      <td>24.000000</td>\n",
              "      <td>1.590000</td>\n",
              "      <td>2.000000</td>\n",
              "      <td>227.000000</td>\n",
              "      <td>1.000000</td>\n",
              "      <td>1.000000</td>\n",
              "      <td>175.000000</td>\n",
              "    </tr>\n",
              "    <tr>\n",
              "      <th>max</th>\n",
              "      <td>40894.000000</td>\n",
              "      <td>-73.712990</td>\n",
              "      <td>1000.000000</td>\n",
              "      <td>629.000000</td>\n",
              "      <td>58.500000</td>\n",
              "      <td>327.000000</td>\n",
              "      <td>365.000000</td>\n",
              "      <td>1.000000</td>\n",
              "      <td>1.000000</td>\n",
              "      <td>10000.000000</td>\n",
              "    </tr>\n",
              "  </tbody>\n",
              "</table>\n",
              "</div>"
            ],
            "text/plain": [
              "           latitude     longitude  ...  Entire_home/apt         price\n",
              "count  33884.000000  33884.000000  ...     33884.000000  33884.000000\n",
              "mean     393.742123   -767.324528  ...         0.520127    153.605389\n",
              "std     3773.366411   7123.758128  ...         0.499602    249.102710\n",
              "min       40.499790 -74142.000000  ...         0.000000      0.000000\n",
              "25%       40.690427    -73.983503  ...         0.000000     69.000000\n",
              "50%       40.723645    -73.956025  ...         1.000000    106.000000\n",
              "75%       40.763910    -73.937005  ...         1.000000    175.000000\n",
              "max    40894.000000    -73.712990  ...         1.000000  10000.000000\n",
              "\n",
              "[8 rows x 10 columns]"
            ]
          },
          "metadata": {
            "tags": []
          },
          "execution_count": 8
        }
      ]
    },
    {
      "cell_type": "code",
      "metadata": {
        "id": "QlhrZ8S3NgNf",
        "outputId": "c4738c6e-ec0d-42c3-cff1-310161976adc",
        "colab": {
          "base_uri": "https://localhost:8080/",
          "height": 606
        }
      },
      "source": [
        "train2_hist = train2.hist(bins=15, figsize=(10,10))"
      ],
      "execution_count": 9,
      "outputs": [
        {
          "output_type": "display_data",
          "data": {
            "image/png": "[encoded data removed]",
            "text/plain": [
              "<Figure size 720x720 with 12 Axes>"
            ]
          },
          "metadata": {
            "tags": [],
            "needs_background": "dark"
          }
        }
      ]
    },
    {
      "cell_type": "markdown",
      "metadata": {
        "id": "Z6tDRaz3OzgQ"
      },
      "source": [
        "remove latitude and longitude out of range\n"
      ]
    },
    {
      "cell_type": "code",
      "metadata": {
        "id": "ulEgRshDMumD"
      },
      "source": [
        "#train2 = train2[(train2['latitude'] >= -90) & (train2['latitude'] <= 90)]\n",
        "#train2 = train2[(train2['longitude'] >= -180) & (train2['longitude'] <= 80)]"
      ],
      "execution_count": 10,
      "outputs": []
    },
    {
      "cell_type": "markdown",
      "metadata": {
        "id": "2PTqpusJO27t"
      },
      "source": [
        "remove outliers"
      ]
    },
    {
      "cell_type": "code",
      "metadata": {
        "id": "ipt-U245KslW"
      },
      "source": [
        "#train2 = train2[train2.minimum_nights != 1000.000000]\n",
        "#train2 = train2[train2.minimum_nights != 999.000000]\n",
        "#train2 = train2[train2.minimum_nights != 500.000000]\n",
        "#train2 = train2[train2.minimum_nights != 370.000000]\n",
        "#train2 = train2[train2.price != 10000]\n",
        "#train2 = train2[train2.price != 9999]"
      ],
      "execution_count": 11,
      "outputs": []
    },
    {
      "cell_type": "markdown",
      "metadata": {
        "id": "TDEgIhzJblj_"
      },
      "source": [
        "check correlations"
      ]
    },
    {
      "cell_type": "code",
      "metadata": {
        "id": "7mhw0vpdRcHT",
        "outputId": "dfe6e442-3828-4f67-97f5-d04e33b1c986",
        "colab": {
          "base_uri": "https://localhost:8080/",
          "height": 213
        }
      },
      "source": [
        "corr = train2.corr()\n",
        "corr.style.background_gradient(cmap='coolwarm')"
      ],
      "execution_count": 13,
      "outputs": [
        {
          "output_type": "execute_result",
          "data": {
            "text/html": [
              "<style  type=\"text/css\" >\n",
              "#T_40e568e0_1930_11eb_aa31_0242ac1c0002row0_col0,#T_40e568e0_1930_11eb_aa31_0242ac1c0002row1_col1,#T_40e568e0_1930_11eb_aa31_0242ac1c0002row2_col2,#T_40e568e0_1930_11eb_aa31_0242ac1c0002row3_col3,#T_40e568e0_1930_11eb_aa31_0242ac1c0002row4_col4,#T_40e568e0_1930_11eb_aa31_0242ac1c0002row5_col5,#T_40e568e0_1930_11eb_aa31_0242ac1c0002row6_col6,#T_40e568e0_1930_11eb_aa31_0242ac1c0002row7_col7,#T_40e568e0_1930_11eb_aa31_0242ac1c0002row8_col8,#T_40e568e0_1930_11eb_aa31_0242ac1c0002row9_col9{\n",
              "            background-color:  #b40426;\n",
              "            color:  #f1f1f1;\n",
              "        }#T_40e568e0_1930_11eb_aa31_0242ac1c0002row0_col1,#T_40e568e0_1930_11eb_aa31_0242ac1c0002row2_col0,#T_40e568e0_1930_11eb_aa31_0242ac1c0002row3_col0,#T_40e568e0_1930_11eb_aa31_0242ac1c0002row5_col1,#T_40e568e0_1930_11eb_aa31_0242ac1c0002row8_col0{\n",
              "            background-color:  #3c4ec2;\n",
              "            color:  #f1f1f1;\n",
              "        }#T_40e568e0_1930_11eb_aa31_0242ac1c0002row0_col2{\n",
              "            background-color:  #5e7de7;\n",
              "            color:  #000000;\n",
              "        }#T_40e568e0_1930_11eb_aa31_0242ac1c0002row0_col3{\n",
              "            background-color:  #516ddb;\n",
              "            color:  #000000;\n",
              "        }#T_40e568e0_1930_11eb_aa31_0242ac1c0002row0_col4{\n",
              "            background-color:  #5f7fe8;\n",
              "            color:  #000000;\n",
              "        }#T_40e568e0_1930_11eb_aa31_0242ac1c0002row0_col5{\n",
              "            background-color:  #5a78e4;\n",
              "            color:  #000000;\n",
              "        }#T_40e568e0_1930_11eb_aa31_0242ac1c0002row0_col6,#T_40e568e0_1930_11eb_aa31_0242ac1c0002row3_col1,#T_40e568e0_1930_11eb_aa31_0242ac1c0002row6_col1,#T_40e568e0_1930_11eb_aa31_0242ac1c0002row8_col6{\n",
              "            background-color:  #3e51c5;\n",
              "            color:  #f1f1f1;\n",
              "        }#T_40e568e0_1930_11eb_aa31_0242ac1c0002row0_col7,#T_40e568e0_1930_11eb_aa31_0242ac1c0002row1_col7,#T_40e568e0_1930_11eb_aa31_0242ac1c0002row6_col8{\n",
              "            background-color:  #d9dce1;\n",
              "            color:  #000000;\n",
              "        }#T_40e568e0_1930_11eb_aa31_0242ac1c0002row0_col8,#T_40e568e0_1930_11eb_aa31_0242ac1c0002row1_col8{\n",
              "            background-color:  #dadce0;\n",
              "            color:  #000000;\n",
              "        }#T_40e568e0_1930_11eb_aa31_0242ac1c0002row0_col9{\n",
              "            background-color:  #7699f6;\n",
              "            color:  #000000;\n",
              "        }#T_40e568e0_1930_11eb_aa31_0242ac1c0002row1_col0,#T_40e568e0_1930_11eb_aa31_0242ac1c0002row2_col1,#T_40e568e0_1930_11eb_aa31_0242ac1c0002row2_col3,#T_40e568e0_1930_11eb_aa31_0242ac1c0002row2_col4,#T_40e568e0_1930_11eb_aa31_0242ac1c0002row4_col2,#T_40e568e0_1930_11eb_aa31_0242ac1c0002row6_col0,#T_40e568e0_1930_11eb_aa31_0242ac1c0002row7_col0,#T_40e568e0_1930_11eb_aa31_0242ac1c0002row7_col1,#T_40e568e0_1930_11eb_aa31_0242ac1c0002row7_col5,#T_40e568e0_1930_11eb_aa31_0242ac1c0002row7_col6,#T_40e568e0_1930_11eb_aa31_0242ac1c0002row7_col8,#T_40e568e0_1930_11eb_aa31_0242ac1c0002row7_col9,#T_40e568e0_1930_11eb_aa31_0242ac1c0002row8_col7,#T_40e568e0_1930_11eb_aa31_0242ac1c0002row9_col0{\n",
              "            background-color:  #3b4cc0;\n",
              "            color:  #f1f1f1;\n",
              "        }#T_40e568e0_1930_11eb_aa31_0242ac1c0002row1_col2{\n",
              "            background-color:  #5b7ae5;\n",
              "            color:  #000000;\n",
              "        }#T_40e568e0_1930_11eb_aa31_0242ac1c0002row1_col3{\n",
              "            background-color:  #536edd;\n",
              "            color:  #000000;\n",
              "        }#T_40e568e0_1930_11eb_aa31_0242ac1c0002row1_col4{\n",
              "            background-color:  #6180e9;\n",
              "            color:  #000000;\n",
              "        }#T_40e568e0_1930_11eb_aa31_0242ac1c0002row1_col5{\n",
              "            background-color:  #5977e3;\n",
              "            color:  #000000;\n",
              "        }#T_40e568e0_1930_11eb_aa31_0242ac1c0002row1_col6{\n",
              "            background-color:  #4055c8;\n",
              "            color:  #f1f1f1;\n",
              "        }#T_40e568e0_1930_11eb_aa31_0242ac1c0002row1_col9{\n",
              "            background-color:  #779af7;\n",
              "            color:  #000000;\n",
              "        }#T_40e568e0_1930_11eb_aa31_0242ac1c0002row2_col5,#T_40e568e0_1930_11eb_aa31_0242ac1c0002row2_col9{\n",
              "            background-color:  #82a6fb;\n",
              "            color:  #000000;\n",
              "        }#T_40e568e0_1930_11eb_aa31_0242ac1c0002row2_col6{\n",
              "            background-color:  #6e90f2;\n",
              "            color:  #000000;\n",
              "        }#T_40e568e0_1930_11eb_aa31_0242ac1c0002row2_col7{\n",
              "            background-color:  #cfdaea;\n",
              "            color:  #000000;\n",
              "        }#T_40e568e0_1930_11eb_aa31_0242ac1c0002row2_col8{\n",
              "            background-color:  #e3d9d3;\n",
              "            color:  #000000;\n",
              "        }#T_40e568e0_1930_11eb_aa31_0242ac1c0002row3_col2{\n",
              "            background-color:  #465ecf;\n",
              "            color:  #f1f1f1;\n",
              "        }#T_40e568e0_1930_11eb_aa31_0242ac1c0002row3_col4{\n",
              "            background-color:  #f5c1a9;\n",
              "            color:  #000000;\n",
              "        }#T_40e568e0_1930_11eb_aa31_0242ac1c0002row3_col5,#T_40e568e0_1930_11eb_aa31_0242ac1c0002row9_col3{\n",
              "            background-color:  #445acc;\n",
              "            color:  #f1f1f1;\n",
              "        }#T_40e568e0_1930_11eb_aa31_0242ac1c0002row3_col6{\n",
              "            background-color:  #799cf8;\n",
              "            color:  #000000;\n",
              "        }#T_40e568e0_1930_11eb_aa31_0242ac1c0002row3_col7{\n",
              "            background-color:  #dbdcde;\n",
              "            color:  #000000;\n",
              "        }#T_40e568e0_1930_11eb_aa31_0242ac1c0002row3_col8{\n",
              "            background-color:  #d8dce2;\n",
              "            color:  #000000;\n",
              "        }#T_40e568e0_1930_11eb_aa31_0242ac1c0002row3_col9,#T_40e568e0_1930_11eb_aa31_0242ac1c0002row4_col9{\n",
              "            background-color:  #688aef;\n",
              "            color:  #000000;\n",
              "        }#T_40e568e0_1930_11eb_aa31_0242ac1c0002row4_col0,#T_40e568e0_1930_11eb_aa31_0242ac1c0002row5_col0,#T_40e568e0_1930_11eb_aa31_0242ac1c0002row5_col3,#T_40e568e0_1930_11eb_aa31_0242ac1c0002row8_col1,#T_40e568e0_1930_11eb_aa31_0242ac1c0002row9_col1{\n",
              "            background-color:  #3d50c3;\n",
              "            color:  #f1f1f1;\n",
              "        }#T_40e568e0_1930_11eb_aa31_0242ac1c0002row4_col1{\n",
              "            background-color:  #3f53c6;\n",
              "            color:  #f1f1f1;\n",
              "        }#T_40e568e0_1930_11eb_aa31_0242ac1c0002row4_col3{\n",
              "            background-color:  #f4c6af;\n",
              "            color:  #000000;\n",
              "        }#T_40e568e0_1930_11eb_aa31_0242ac1c0002row4_col5{\n",
              "            background-color:  #4b64d5;\n",
              "            color:  #f1f1f1;\n",
              "        }#T_40e568e0_1930_11eb_aa31_0242ac1c0002row4_col6{\n",
              "            background-color:  #7597f6;\n",
              "            color:  #000000;\n",
              "        }#T_40e568e0_1930_11eb_aa31_0242ac1c0002row4_col7{\n",
              "            background-color:  #dddcdc;\n",
              "            color:  #000000;\n",
              "        }#T_40e568e0_1930_11eb_aa31_0242ac1c0002row4_col8{\n",
              "            background-color:  #d6dce4;\n",
              "            color:  #000000;\n",
              "        }#T_40e568e0_1930_11eb_aa31_0242ac1c0002row5_col2,#T_40e568e0_1930_11eb_aa31_0242ac1c0002row5_col9{\n",
              "            background-color:  #86a9fc;\n",
              "            color:  #000000;\n",
              "        }#T_40e568e0_1930_11eb_aa31_0242ac1c0002row5_col4,#T_40e568e0_1930_11eb_aa31_0242ac1c0002row8_col3{\n",
              "            background-color:  #4f69d9;\n",
              "            color:  #000000;\n",
              "        }#T_40e568e0_1930_11eb_aa31_0242ac1c0002row5_col6{\n",
              "            background-color:  #88abfd;\n",
              "            color:  #000000;\n",
              "        }#T_40e568e0_1930_11eb_aa31_0242ac1c0002row5_col7{\n",
              "            background-color:  #cad8ef;\n",
              "            color:  #000000;\n",
              "        }#T_40e568e0_1930_11eb_aa31_0242ac1c0002row5_col8{\n",
              "            background-color:  #e8d6cc;\n",
              "            color:  #000000;\n",
              "        }#T_40e568e0_1930_11eb_aa31_0242ac1c0002row6_col2{\n",
              "            background-color:  #8badfd;\n",
              "            color:  #000000;\n",
              "        }#T_40e568e0_1930_11eb_aa31_0242ac1c0002row6_col3{\n",
              "            background-color:  #89acfd;\n",
              "            color:  #000000;\n",
              "        }#T_40e568e0_1930_11eb_aa31_0242ac1c0002row6_col4{\n",
              "            background-color:  #92b4fe;\n",
              "            color:  #000000;\n",
              "        }#T_40e568e0_1930_11eb_aa31_0242ac1c0002row6_col5{\n",
              "            background-color:  #9fbfff;\n",
              "            color:  #000000;\n",
              "        }#T_40e568e0_1930_11eb_aa31_0242ac1c0002row6_col7{\n",
              "            background-color:  #d7dce3;\n",
              "            color:  #000000;\n",
              "        }#T_40e568e0_1930_11eb_aa31_0242ac1c0002row6_col9{\n",
              "            background-color:  #8db0fe;\n",
              "            color:  #000000;\n",
              "        }#T_40e568e0_1930_11eb_aa31_0242ac1c0002row7_col2{\n",
              "            background-color:  #4961d2;\n",
              "            color:  #f1f1f1;\n",
              "        }#T_40e568e0_1930_11eb_aa31_0242ac1c0002row7_col3,#T_40e568e0_1930_11eb_aa31_0242ac1c0002row8_col4,#T_40e568e0_1930_11eb_aa31_0242ac1c0002row9_col6{\n",
              "            background-color:  #5673e0;\n",
              "            color:  #000000;\n",
              "        }#T_40e568e0_1930_11eb_aa31_0242ac1c0002row7_col4{\n",
              "            background-color:  #6687ed;\n",
              "            color:  #000000;\n",
              "        }#T_40e568e0_1930_11eb_aa31_0242ac1c0002row8_col2{\n",
              "            background-color:  #7396f5;\n",
              "            color:  #000000;\n",
              "        }#T_40e568e0_1930_11eb_aa31_0242ac1c0002row8_col5{\n",
              "            background-color:  #7b9ff9;\n",
              "            color:  #000000;\n",
              "        }#T_40e568e0_1930_11eb_aa31_0242ac1c0002row8_col9{\n",
              "            background-color:  #bbd1f8;\n",
              "            color:  #000000;\n",
              "        }#T_40e568e0_1930_11eb_aa31_0242ac1c0002row9_col2{\n",
              "            background-color:  #6b8df0;\n",
              "            color:  #000000;\n",
              "        }#T_40e568e0_1930_11eb_aa31_0242ac1c0002row9_col4{\n",
              "            background-color:  #506bda;\n",
              "            color:  #000000;\n",
              "        }#T_40e568e0_1930_11eb_aa31_0242ac1c0002row9_col5{\n",
              "            background-color:  #6a8bef;\n",
              "            color:  #000000;\n",
              "        }#T_40e568e0_1930_11eb_aa31_0242ac1c0002row9_col7{\n",
              "            background-color:  #b6cefa;\n",
              "            color:  #000000;\n",
              "        }#T_40e568e0_1930_11eb_aa31_0242ac1c0002row9_col8{\n",
              "            background-color:  #f3c8b2;\n",
              "            color:  #000000;\n",
              "        }</style><table id=\"T_40e568e0_1930_11eb_aa31_0242ac1c0002\" ><thead>    <tr>        <th class=\"blank level0\" ></th>        <th class=\"col_heading level0 col0\" >latitude</th>        <th class=\"col_heading level0 col1\" >longitude</th>        <th class=\"col_heading level0 col2\" >minimum_nights</th>        <th class=\"col_heading level0 col3\" >number_of_reviews</th>        <th class=\"col_heading level0 col4\" >reviews_per_month</th>        <th class=\"col_heading level0 col5\" >calculated_host_listings_count</th>        <th class=\"col_heading level0 col6\" >availability_365</th>        <th class=\"col_heading level0 col7\" >Private_room</th>        <th class=\"col_heading level0 col8\" >Entire_home/apt</th>        <th class=\"col_heading level0 col9\" >price</th>    </tr></thead><tbody>\n",
              "                <tr>\n",
              "                        <th id=\"T_40e568e0_1930_11eb_aa31_0242ac1c0002level0_row0\" class=\"row_heading level0 row0\" >latitude</th>\n",
              "                        <td id=\"T_40e568e0_1930_11eb_aa31_0242ac1c0002row0_col0\" class=\"data row0 col0\" >1.000000</td>\n",
              "                        <td id=\"T_40e568e0_1930_11eb_aa31_0242ac1c0002row0_col1\" class=\"data row0 col1\" >-0.000775</td>\n",
              "                        <td id=\"T_40e568e0_1930_11eb_aa31_0242ac1c0002row0_col2\" class=\"data row0 col2\" >0.001759</td>\n",
              "                        <td id=\"T_40e568e0_1930_11eb_aa31_0242ac1c0002row0_col3\" class=\"data row0 col3\" >0.000225</td>\n",
              "                        <td id=\"T_40e568e0_1930_11eb_aa31_0242ac1c0002row0_col4\" class=\"data row0 col4\" >0.006321</td>\n",
              "                        <td id=\"T_40e568e0_1930_11eb_aa31_0242ac1c0002row0_col5\" class=\"data row0 col5\" >0.006180</td>\n",
              "                        <td id=\"T_40e568e0_1930_11eb_aa31_0242ac1c0002row0_col6\" class=\"data row0 col6\" >-0.003713</td>\n",
              "                        <td id=\"T_40e568e0_1930_11eb_aa31_0242ac1c0002row0_col7\" class=\"data row0 col7\" >-0.000699</td>\n",
              "                        <td id=\"T_40e568e0_1930_11eb_aa31_0242ac1c0002row0_col8\" class=\"data row0 col8\" >0.003241</td>\n",
              "                        <td id=\"T_40e568e0_1930_11eb_aa31_0242ac1c0002row0_col9\" class=\"data row0 col9\" >-0.003101</td>\n",
              "            </tr>\n",
              "            <tr>\n",
              "                        <th id=\"T_40e568e0_1930_11eb_aa31_0242ac1c0002level0_row1\" class=\"row_heading level0 row1\" >longitude</th>\n",
              "                        <td id=\"T_40e568e0_1930_11eb_aa31_0242ac1c0002row1_col0\" class=\"data row1 col0\" >-0.000775</td>\n",
              "                        <td id=\"T_40e568e0_1930_11eb_aa31_0242ac1c0002row1_col1\" class=\"data row1 col1\" >1.000000</td>\n",
              "                        <td id=\"T_40e568e0_1930_11eb_aa31_0242ac1c0002row1_col2\" class=\"data row1 col2\" >-0.007274</td>\n",
              "                        <td id=\"T_40e568e0_1930_11eb_aa31_0242ac1c0002row1_col3\" class=\"data row1 col3\" >0.005698</td>\n",
              "                        <td id=\"T_40e568e0_1930_11eb_aa31_0242ac1c0002row1_col4\" class=\"data row1 col4\" >0.011825</td>\n",
              "                        <td id=\"T_40e568e0_1930_11eb_aa31_0242ac1c0002row1_col5\" class=\"data row1 col5\" >-0.001690</td>\n",
              "                        <td id=\"T_40e568e0_1930_11eb_aa31_0242ac1c0002row1_col6\" class=\"data row1 col6\" >0.004808</td>\n",
              "                        <td id=\"T_40e568e0_1930_11eb_aa31_0242ac1c0002row1_col7\" class=\"data row1 col7\" >-0.004886</td>\n",
              "                        <td id=\"T_40e568e0_1930_11eb_aa31_0242ac1c0002row1_col8\" class=\"data row1 col8\" >0.003301</td>\n",
              "                        <td id=\"T_40e568e0_1930_11eb_aa31_0242ac1c0002row1_col9\" class=\"data row1 col9\" >0.003884</td>\n",
              "            </tr>\n",
              "            <tr>\n",
              "                        <th id=\"T_40e568e0_1930_11eb_aa31_0242ac1c0002level0_row2\" class=\"row_heading level0 row2\" >minimum_nights</th>\n",
              "                        <td id=\"T_40e568e0_1930_11eb_aa31_0242ac1c0002row2_col0\" class=\"data row2 col0\" >0.001759</td>\n",
              "                        <td id=\"T_40e568e0_1930_11eb_aa31_0242ac1c0002row2_col1\" class=\"data row2 col1\" >-0.007274</td>\n",
              "                        <td id=\"T_40e568e0_1930_11eb_aa31_0242ac1c0002row2_col2\" class=\"data row2 col2\" >1.000000</td>\n",
              "                        <td id=\"T_40e568e0_1930_11eb_aa31_0242ac1c0002row2_col3\" class=\"data row2 col3\" >-0.082849</td>\n",
              "                        <td id=\"T_40e568e0_1930_11eb_aa31_0242ac1c0002row2_col4\" class=\"data row2 col4\" >-0.129051</td>\n",
              "                        <td id=\"T_40e568e0_1930_11eb_aa31_0242ac1c0002row2_col5\" class=\"data row2 col5\" >0.132921</td>\n",
              "                        <td id=\"T_40e568e0_1930_11eb_aa31_0242ac1c0002row2_col6\" class=\"data row2 col6\" >0.148433</td>\n",
              "                        <td id=\"T_40e568e0_1930_11eb_aa31_0242ac1c0002row2_col7\" class=\"data row2 col7\" >-0.074589</td>\n",
              "                        <td id=\"T_40e568e0_1930_11eb_aa31_0242ac1c0002row2_col8\" class=\"data row2 col8\" >0.073630</td>\n",
              "                        <td id=\"T_40e568e0_1930_11eb_aa31_0242ac1c0002row2_col9\" class=\"data row2 col9\" >0.042982</td>\n",
              "            </tr>\n",
              "            <tr>\n",
              "                        <th id=\"T_40e568e0_1930_11eb_aa31_0242ac1c0002level0_row3\" class=\"row_heading level0 row3\" >number_of_reviews</th>\n",
              "                        <td id=\"T_40e568e0_1930_11eb_aa31_0242ac1c0002row3_col0\" class=\"data row3 col0\" >0.000225</td>\n",
              "                        <td id=\"T_40e568e0_1930_11eb_aa31_0242ac1c0002row3_col1\" class=\"data row3 col1\" >0.005698</td>\n",
              "                        <td id=\"T_40e568e0_1930_11eb_aa31_0242ac1c0002row3_col2\" class=\"data row3 col2\" >-0.082849</td>\n",
              "                        <td id=\"T_40e568e0_1930_11eb_aa31_0242ac1c0002row3_col3\" class=\"data row3 col3\" >1.000000</td>\n",
              "                        <td id=\"T_40e568e0_1930_11eb_aa31_0242ac1c0002row3_col4\" class=\"data row3 col4\" >0.585578</td>\n",
              "                        <td id=\"T_40e568e0_1930_11eb_aa31_0242ac1c0002row3_col5\" class=\"data row3 col5\" >-0.072459</td>\n",
              "                        <td id=\"T_40e568e0_1930_11eb_aa31_0242ac1c0002row3_col6\" class=\"data row3 col6\" >0.178875</td>\n",
              "                        <td id=\"T_40e568e0_1930_11eb_aa31_0242ac1c0002row3_col7\" class=\"data row3 col7\" >0.015274</td>\n",
              "                        <td id=\"T_40e568e0_1930_11eb_aa31_0242ac1c0002row3_col8\" class=\"data row3 col8\" >-0.009056</td>\n",
              "                        <td id=\"T_40e568e0_1930_11eb_aa31_0242ac1c0002row3_col9\" class=\"data row3 col9\" >-0.047864</td>\n",
              "            </tr>\n",
              "            <tr>\n",
              "                        <th id=\"T_40e568e0_1930_11eb_aa31_0242ac1c0002level0_row4\" class=\"row_heading level0 row4\" >reviews_per_month</th>\n",
              "                        <td id=\"T_40e568e0_1930_11eb_aa31_0242ac1c0002row4_col0\" class=\"data row4 col0\" >0.006321</td>\n",
              "                        <td id=\"T_40e568e0_1930_11eb_aa31_0242ac1c0002row4_col1\" class=\"data row4 col1\" >0.011825</td>\n",
              "                        <td id=\"T_40e568e0_1930_11eb_aa31_0242ac1c0002row4_col2\" class=\"data row4 col2\" >-0.129051</td>\n",
              "                        <td id=\"T_40e568e0_1930_11eb_aa31_0242ac1c0002row4_col3\" class=\"data row4 col3\" >0.585578</td>\n",
              "                        <td id=\"T_40e568e0_1930_11eb_aa31_0242ac1c0002row4_col4\" class=\"data row4 col4\" >1.000000</td>\n",
              "                        <td id=\"T_40e568e0_1930_11eb_aa31_0242ac1c0002row4_col5\" class=\"data row4 col5\" >-0.049871</td>\n",
              "                        <td id=\"T_40e568e0_1930_11eb_aa31_0242ac1c0002row4_col6\" class=\"data row4 col6\" >0.166600</td>\n",
              "                        <td id=\"T_40e568e0_1930_11eb_aa31_0242ac1c0002row4_col7\" class=\"data row4 col7\" >0.025742</td>\n",
              "                        <td id=\"T_40e568e0_1930_11eb_aa31_0242ac1c0002row4_col8\" class=\"data row4 col8\" >-0.025903</td>\n",
              "                        <td id=\"T_40e568e0_1930_11eb_aa31_0242ac1c0002row4_col9\" class=\"data row4 col9\" >-0.048883</td>\n",
              "            </tr>\n",
              "            <tr>\n",
              "                        <th id=\"T_40e568e0_1930_11eb_aa31_0242ac1c0002level0_row5\" class=\"row_heading level0 row5\" >calculated_host_listings_count</th>\n",
              "                        <td id=\"T_40e568e0_1930_11eb_aa31_0242ac1c0002row5_col0\" class=\"data row5 col0\" >0.006180</td>\n",
              "                        <td id=\"T_40e568e0_1930_11eb_aa31_0242ac1c0002row5_col1\" class=\"data row5 col1\" >-0.001690</td>\n",
              "                        <td id=\"T_40e568e0_1930_11eb_aa31_0242ac1c0002row5_col2\" class=\"data row5 col2\" >0.132921</td>\n",
              "                        <td id=\"T_40e568e0_1930_11eb_aa31_0242ac1c0002row5_col3\" class=\"data row5 col3\" >-0.072459</td>\n",
              "                        <td id=\"T_40e568e0_1930_11eb_aa31_0242ac1c0002row5_col4\" class=\"data row5 col4\" >-0.049871</td>\n",
              "                        <td id=\"T_40e568e0_1930_11eb_aa31_0242ac1c0002row5_col5\" class=\"data row5 col5\" >1.000000</td>\n",
              "                        <td id=\"T_40e568e0_1930_11eb_aa31_0242ac1c0002row5_col6\" class=\"data row5 col6\" >0.224036</td>\n",
              "                        <td id=\"T_40e568e0_1930_11eb_aa31_0242ac1c0002row5_col7\" class=\"data row5 col7\" >-0.110756</td>\n",
              "                        <td id=\"T_40e568e0_1930_11eb_aa31_0242ac1c0002row5_col8\" class=\"data row5 col8\" >0.113787</td>\n",
              "                        <td id=\"T_40e568e0_1930_11eb_aa31_0242ac1c0002row5_col9\" class=\"data row5 col9\" >0.054862</td>\n",
              "            </tr>\n",
              "            <tr>\n",
              "                        <th id=\"T_40e568e0_1930_11eb_aa31_0242ac1c0002level0_row6\" class=\"row_heading level0 row6\" >availability_365</th>\n",
              "                        <td id=\"T_40e568e0_1930_11eb_aa31_0242ac1c0002row6_col0\" class=\"data row6 col0\" >-0.003713</td>\n",
              "                        <td id=\"T_40e568e0_1930_11eb_aa31_0242ac1c0002row6_col1\" class=\"data row6 col1\" >0.004808</td>\n",
              "                        <td id=\"T_40e568e0_1930_11eb_aa31_0242ac1c0002row6_col2\" class=\"data row6 col2\" >0.148433</td>\n",
              "                        <td id=\"T_40e568e0_1930_11eb_aa31_0242ac1c0002row6_col3\" class=\"data row6 col3\" >0.178875</td>\n",
              "                        <td id=\"T_40e568e0_1930_11eb_aa31_0242ac1c0002row6_col4\" class=\"data row6 col4\" >0.166600</td>\n",
              "                        <td id=\"T_40e568e0_1930_11eb_aa31_0242ac1c0002row6_col5\" class=\"data row6 col5\" >0.224036</td>\n",
              "                        <td id=\"T_40e568e0_1930_11eb_aa31_0242ac1c0002row6_col6\" class=\"data row6 col6\" >1.000000</td>\n",
              "                        <td id=\"T_40e568e0_1930_11eb_aa31_0242ac1c0002row6_col7\" class=\"data row6 col7\" >-0.016487</td>\n",
              "                        <td id=\"T_40e568e0_1930_11eb_aa31_0242ac1c0002row6_col8\" class=\"data row6 col8\" >-0.000934</td>\n",
              "                        <td id=\"T_40e568e0_1930_11eb_aa31_0242ac1c0002row6_col9\" class=\"data row6 col9\" >0.078617</td>\n",
              "            </tr>\n",
              "            <tr>\n",
              "                        <th id=\"T_40e568e0_1930_11eb_aa31_0242ac1c0002level0_row7\" class=\"row_heading level0 row7\" >Private_room</th>\n",
              "                        <td id=\"T_40e568e0_1930_11eb_aa31_0242ac1c0002row7_col0\" class=\"data row7 col0\" >-0.000699</td>\n",
              "                        <td id=\"T_40e568e0_1930_11eb_aa31_0242ac1c0002row7_col1\" class=\"data row7 col1\" >-0.004886</td>\n",
              "                        <td id=\"T_40e568e0_1930_11eb_aa31_0242ac1c0002row7_col2\" class=\"data row7 col2\" >-0.074589</td>\n",
              "                        <td id=\"T_40e568e0_1930_11eb_aa31_0242ac1c0002row7_col3\" class=\"data row7 col3\" >0.015274</td>\n",
              "                        <td id=\"T_40e568e0_1930_11eb_aa31_0242ac1c0002row7_col4\" class=\"data row7 col4\" >0.025742</td>\n",
              "                        <td id=\"T_40e568e0_1930_11eb_aa31_0242ac1c0002row7_col5\" class=\"data row7 col5\" >-0.110756</td>\n",
              "                        <td id=\"T_40e568e0_1930_11eb_aa31_0242ac1c0002row7_col6\" class=\"data row7 col6\" >-0.016487</td>\n",
              "                        <td id=\"T_40e568e0_1930_11eb_aa31_0242ac1c0002row7_col7\" class=\"data row7 col7\" >1.000000</td>\n",
              "                        <td id=\"T_40e568e0_1930_11eb_aa31_0242ac1c0002row7_col8\" class=\"data row7 col8\" >-0.953344</td>\n",
              "                        <td id=\"T_40e568e0_1930_11eb_aa31_0242ac1c0002row7_col9\" class=\"data row7 col9\" >-0.229030</td>\n",
              "            </tr>\n",
              "            <tr>\n",
              "                        <th id=\"T_40e568e0_1930_11eb_aa31_0242ac1c0002level0_row8\" class=\"row_heading level0 row8\" >Entire_home/apt</th>\n",
              "                        <td id=\"T_40e568e0_1930_11eb_aa31_0242ac1c0002row8_col0\" class=\"data row8 col0\" >0.003241</td>\n",
              "                        <td id=\"T_40e568e0_1930_11eb_aa31_0242ac1c0002row8_col1\" class=\"data row8 col1\" >0.003301</td>\n",
              "                        <td id=\"T_40e568e0_1930_11eb_aa31_0242ac1c0002row8_col2\" class=\"data row8 col2\" >0.073630</td>\n",
              "                        <td id=\"T_40e568e0_1930_11eb_aa31_0242ac1c0002row8_col3\" class=\"data row8 col3\" >-0.009056</td>\n",
              "                        <td id=\"T_40e568e0_1930_11eb_aa31_0242ac1c0002row8_col4\" class=\"data row8 col4\" >-0.025903</td>\n",
              "                        <td id=\"T_40e568e0_1930_11eb_aa31_0242ac1c0002row8_col5\" class=\"data row8 col5\" >0.113787</td>\n",
              "                        <td id=\"T_40e568e0_1930_11eb_aa31_0242ac1c0002row8_col6\" class=\"data row8 col6\" >-0.000934</td>\n",
              "                        <td id=\"T_40e568e0_1930_11eb_aa31_0242ac1c0002row8_col7\" class=\"data row8 col7\" >-0.953344</td>\n",
              "                        <td id=\"T_40e568e0_1930_11eb_aa31_0242ac1c0002row8_col8\" class=\"data row8 col8\" >1.000000</td>\n",
              "                        <td id=\"T_40e568e0_1930_11eb_aa31_0242ac1c0002row8_col9\" class=\"data row8 col9\" >0.244510</td>\n",
              "            </tr>\n",
              "            <tr>\n",
              "                        <th id=\"T_40e568e0_1930_11eb_aa31_0242ac1c0002level0_row9\" class=\"row_heading level0 row9\" >price</th>\n",
              "                        <td id=\"T_40e568e0_1930_11eb_aa31_0242ac1c0002row9_col0\" class=\"data row9 col0\" >-0.003101</td>\n",
              "                        <td id=\"T_40e568e0_1930_11eb_aa31_0242ac1c0002row9_col1\" class=\"data row9 col1\" >0.003884</td>\n",
              "                        <td id=\"T_40e568e0_1930_11eb_aa31_0242ac1c0002row9_col2\" class=\"data row9 col2\" >0.042982</td>\n",
              "                        <td id=\"T_40e568e0_1930_11eb_aa31_0242ac1c0002row9_col3\" class=\"data row9 col3\" >-0.047864</td>\n",
              "                        <td id=\"T_40e568e0_1930_11eb_aa31_0242ac1c0002row9_col4\" class=\"data row9 col4\" >-0.048883</td>\n",
              "                        <td id=\"T_40e568e0_1930_11eb_aa31_0242ac1c0002row9_col5\" class=\"data row9 col5\" >0.054862</td>\n",
              "                        <td id=\"T_40e568e0_1930_11eb_aa31_0242ac1c0002row9_col6\" class=\"data row9 col6\" >0.078617</td>\n",
              "                        <td id=\"T_40e568e0_1930_11eb_aa31_0242ac1c0002row9_col7\" class=\"data row9 col7\" >-0.229030</td>\n",
              "                        <td id=\"T_40e568e0_1930_11eb_aa31_0242ac1c0002row9_col8\" class=\"data row9 col8\" >0.244510</td>\n",
              "                        <td id=\"T_40e568e0_1930_11eb_aa31_0242ac1c0002row9_col9\" class=\"data row9 col9\" >1.000000</td>\n",
              "            </tr>\n",
              "    </tbody></table>"
            ],
            "text/plain": [
              "<pandas.io.formats.style.Styler at 0x7fafa350c198>"
            ]
          },
          "metadata": {
            "tags": []
          },
          "execution_count": 13
        }
      ]
    },
    {
      "cell_type": "markdown",
      "metadata": {
        "id": "KEFyOr0a2Bx3"
      },
      "source": [
        "remove outliers"
      ]
    },
    {
      "cell_type": "code",
      "metadata": {
        "id": "fKZ64TNT1_8_"
      },
      "source": [
        "cols = ['minimum_nights', 'price']\n",
        "q1 = train2[cols].quantile(.10)\n",
        "q3 = train2[cols].quantile(.90)\n",
        "iqr = q3 - q1"
      ],
      "execution_count": 12,
      "outputs": []
    },
    {
      "cell_type": "code",
      "metadata": {
        "id": "gNEKkYAEwPVE",
        "outputId": "ec1bcad1-50b1-4b0e-f3cb-9afed34b36fd",
        "colab": {
          "base_uri": "https://localhost:8080/",
          "height": 307
        }
      },
      "source": [
        "train2 = train2[~((train2 < (q1 - 1.5 * iqr)) | (train2 > (q3 + 1.5 * iqr))).any(axis=1)]\n",
        "train2.describe()"
      ],
      "execution_count": 14,
      "outputs": [
        {
          "output_type": "execute_result",
          "data": {
            "text/html": [
              "<div>\n",
              "<style scoped>\n",
              "    .dataframe tbody tr th:only-of-type {\n",
              "        vertical-align: middle;\n",
              "    }\n",
              "\n",
              "    .dataframe tbody tr th {\n",
              "        vertical-align: top;\n",
              "    }\n",
              "\n",
              "    .dataframe thead th {\n",
              "        text-align: right;\n",
              "    }\n",
              "</style>\n",
              "<table border=\"1\" class=\"dataframe\">\n",
              "  <thead>\n",
              "    <tr style=\"text-align: right;\">\n",
              "      <th></th>\n",
              "      <th>latitude</th>\n",
              "      <th>longitude</th>\n",
              "      <th>minimum_nights</th>\n",
              "      <th>number_of_reviews</th>\n",
              "      <th>reviews_per_month</th>\n",
              "      <th>calculated_host_listings_count</th>\n",
              "      <th>availability_365</th>\n",
              "      <th>Private_room</th>\n",
              "      <th>Entire_home/apt</th>\n",
              "      <th>price</th>\n",
              "    </tr>\n",
              "  </thead>\n",
              "  <tbody>\n",
              "    <tr>\n",
              "      <th>count</th>\n",
              "      <td>33105.000000</td>\n",
              "      <td>33105.000000</td>\n",
              "      <td>33105.000000</td>\n",
              "      <td>33105.000000</td>\n",
              "      <td>33105.000000</td>\n",
              "      <td>33105.000000</td>\n",
              "      <td>33105.000000</td>\n",
              "      <td>33105.000000</td>\n",
              "      <td>33105.000000</td>\n",
              "      <td>33105.000000</td>\n",
              "    </tr>\n",
              "    <tr>\n",
              "      <th>mean</th>\n",
              "      <td>397.134158</td>\n",
              "      <td>-770.243227</td>\n",
              "      <td>5.911524</td>\n",
              "      <td>23.712007</td>\n",
              "      <td>1.110852</td>\n",
              "      <td>7.023833</td>\n",
              "      <td>111.070140</td>\n",
              "      <td>0.462226</td>\n",
              "      <td>0.513820</td>\n",
              "      <td>133.999668</td>\n",
              "    </tr>\n",
              "    <tr>\n",
              "      <th>std</th>\n",
              "      <td>3791.301734</td>\n",
              "      <td>7138.565682</td>\n",
              "      <td>8.929690</td>\n",
              "      <td>44.920455</td>\n",
              "      <td>1.620840</td>\n",
              "      <td>32.579430</td>\n",
              "      <td>130.801027</td>\n",
              "      <td>0.498579</td>\n",
              "      <td>0.499817</td>\n",
              "      <td>94.007105</td>\n",
              "    </tr>\n",
              "    <tr>\n",
              "      <th>min</th>\n",
              "      <td>40.499790</td>\n",
              "      <td>-74142.000000</td>\n",
              "      <td>1.000000</td>\n",
              "      <td>0.000000</td>\n",
              "      <td>0.000000</td>\n",
              "      <td>1.000000</td>\n",
              "      <td>0.000000</td>\n",
              "      <td>0.000000</td>\n",
              "      <td>0.000000</td>\n",
              "      <td>0.000000</td>\n",
              "    </tr>\n",
              "    <tr>\n",
              "      <th>25%</th>\n",
              "      <td>40.690180</td>\n",
              "      <td>-73.983180</td>\n",
              "      <td>1.000000</td>\n",
              "      <td>1.000000</td>\n",
              "      <td>0.040000</td>\n",
              "      <td>1.000000</td>\n",
              "      <td>0.000000</td>\n",
              "      <td>0.000000</td>\n",
              "      <td>0.000000</td>\n",
              "      <td>69.000000</td>\n",
              "    </tr>\n",
              "    <tr>\n",
              "      <th>50%</th>\n",
              "      <td>40.723230</td>\n",
              "      <td>-73.955610</td>\n",
              "      <td>2.000000</td>\n",
              "      <td>5.000000</td>\n",
              "      <td>0.380000</td>\n",
              "      <td>1.000000</td>\n",
              "      <td>42.000000</td>\n",
              "      <td>0.000000</td>\n",
              "      <td>1.000000</td>\n",
              "      <td>104.000000</td>\n",
              "    </tr>\n",
              "    <tr>\n",
              "      <th>75%</th>\n",
              "      <td>40.764020</td>\n",
              "      <td>-73.936430</td>\n",
              "      <td>5.000000</td>\n",
              "      <td>24.000000</td>\n",
              "      <td>1.630000</td>\n",
              "      <td>2.000000</td>\n",
              "      <td>220.000000</td>\n",
              "      <td>1.000000</td>\n",
              "      <td>1.000000</td>\n",
              "      <td>175.000000</td>\n",
              "    </tr>\n",
              "    <tr>\n",
              "      <th>max</th>\n",
              "      <td>40894.000000</td>\n",
              "      <td>-73.712990</td>\n",
              "      <td>68.000000</td>\n",
              "      <td>629.000000</td>\n",
              "      <td>58.500000</td>\n",
              "      <td>327.000000</td>\n",
              "      <td>365.000000</td>\n",
              "      <td>1.000000</td>\n",
              "      <td>1.000000</td>\n",
              "      <td>600.000000</td>\n",
              "    </tr>\n",
              "  </tbody>\n",
              "</table>\n",
              "</div>"
            ],
            "text/plain": [
              "           latitude     longitude  ...  Entire_home/apt         price\n",
              "count  33105.000000  33105.000000  ...     33105.000000  33105.000000\n",
              "mean     397.134158   -770.243227  ...         0.513820    133.999668\n",
              "std     3791.301734   7138.565682  ...         0.499817     94.007105\n",
              "min       40.499790 -74142.000000  ...         0.000000      0.000000\n",
              "25%       40.690180    -73.983180  ...         0.000000     69.000000\n",
              "50%       40.723230    -73.955610  ...         1.000000    104.000000\n",
              "75%       40.764020    -73.936430  ...         1.000000    175.000000\n",
              "max    40894.000000    -73.712990  ...         1.000000    600.000000\n",
              "\n",
              "[8 rows x 10 columns]"
            ]
          },
          "metadata": {
            "tags": []
          },
          "execution_count": 14
        }
      ]
    },
    {
      "cell_type": "code",
      "metadata": {
        "id": "3khXZn3oO_l-",
        "outputId": "8ba30a96-76f1-4b4d-9b9e-b0ac81510acf",
        "colab": {
          "base_uri": "https://localhost:8080/",
          "height": 606
        }
      },
      "source": [
        "train2_hist = train2.hist(bins=15, figsize=(10,10))"
      ],
      "execution_count": 15,
      "outputs": [
        {
          "output_type": "display_data",
          "data": {
            "image/png": "[encoded data removed]",
            "text/plain": [
              "<Figure size 720x720 with 12 Axes>"
            ]
          },
          "metadata": {
            "tags": [],
            "needs_background": "dark"
          }
        }
      ]
    },
    {
      "cell_type": "markdown",
      "metadata": {
        "id": "Sn_hMlNtO6Dd"
      },
      "source": [
        "check duplicates"
      ]
    },
    {
      "cell_type": "code",
      "metadata": {
        "id": "0q4fCRtZP1uE",
        "outputId": "3a3a1b3b-7bb9-446e-fe7c-7a0380050169",
        "colab": {
          "base_uri": "https://localhost:8080/",
          "height": 34
        }
      },
      "source": [
        "print('Train duplicated:', train2.duplicated().sum())"
      ],
      "execution_count": 16,
      "outputs": [
        {
          "output_type": "stream",
          "text": [
            "Train duplicated: 0\n"
          ],
          "name": "stdout"
        }
      ]
    },
    {
      "cell_type": "markdown",
      "metadata": {
        "id": "OnVKmHq65H7S"
      },
      "source": [
        "remove duplicates"
      ]
    },
    {
      "cell_type": "code",
      "metadata": {
        "id": "HpMHSnct5FCD"
      },
      "source": [
        "#train2.drop_duplicates(keep = False, inplace = True) \n",
        "#print('Train duplicated:', train2.duplicated().sum())"
      ],
      "execution_count": 17,
      "outputs": []
    },
    {
      "cell_type": "markdown",
      "metadata": {
        "id": "pXv-sAdBO8nq"
      },
      "source": [
        "check NaN"
      ]
    },
    {
      "cell_type": "code",
      "metadata": {
        "id": "oLbQ13ZXP6ik",
        "outputId": "4b837f02-2ed3-4b34-91db-c6b4b3faa080",
        "colab": {
          "base_uri": "https://localhost:8080/",
          "height": 212
        }
      },
      "source": [
        "train2.isnull().sum()"
      ],
      "execution_count": 18,
      "outputs": [
        {
          "output_type": "execute_result",
          "data": {
            "text/plain": [
              "latitude                          0\n",
              "longitude                         0\n",
              "minimum_nights                    0\n",
              "number_of_reviews                 0\n",
              "reviews_per_month                 0\n",
              "calculated_host_listings_count    0\n",
              "availability_365                  0\n",
              "Private_room                      0\n",
              "Entire_home/apt                   0\n",
              "price                             0\n",
              "dtype: int64"
            ]
          },
          "metadata": {
            "tags": []
          },
          "execution_count": 18
        }
      ]
    },
    {
      "cell_type": "markdown",
      "metadata": {
        "id": "LqMFpdiYeI--"
      },
      "source": [
        "check types"
      ]
    },
    {
      "cell_type": "code",
      "metadata": {
        "id": "u2Qptk0bi6lH",
        "outputId": "49f70ddb-c4fd-494d-ce65-268884c3fddb",
        "colab": {
          "base_uri": "https://localhost:8080/",
          "height": 212
        }
      },
      "source": [
        "train2.dtypes"
      ],
      "execution_count": 19,
      "outputs": [
        {
          "output_type": "execute_result",
          "data": {
            "text/plain": [
              "latitude                          float64\n",
              "longitude                         float64\n",
              "minimum_nights                      int64\n",
              "number_of_reviews                   int64\n",
              "reviews_per_month                 float64\n",
              "calculated_host_listings_count      int64\n",
              "availability_365                    int64\n",
              "Private_room                        int64\n",
              "Entire_home/apt                     int64\n",
              "price                               int64\n",
              "dtype: object"
            ]
          },
          "metadata": {
            "tags": []
          },
          "execution_count": 19
        }
      ]
    },
    {
      "cell_type": "markdown",
      "metadata": {
        "id": "GR6_fqiePxq1"
      },
      "source": [
        "shuffle rows"
      ]
    },
    {
      "cell_type": "code",
      "metadata": {
        "id": "p60ePt-fPusb"
      },
      "source": [
        "train2 = train2.sample(frac=1).reset_index(drop=True)"
      ],
      "execution_count": 20,
      "outputs": []
    },
    {
      "cell_type": "markdown",
      "metadata": {
        "id": "s_71G6sNbYDL"
      },
      "source": [
        "scaler"
      ]
    },
    {
      "cell_type": "code",
      "metadata": {
        "id": "x5L7qXUiVPfR",
        "outputId": "134425f6-9fc4-4cc5-82f0-d0abde7b2988",
        "colab": {
          "base_uri": "https://localhost:8080/",
          "height": 406
        }
      },
      "source": [
        "column_names_to_normalize = ['latitude', 'longitude', 'minimum_nights', 'number_of_reviews', 'calculated_host_listings_count', 'availability_365']\n",
        "x = train2[column_names_to_normalize].values\n",
        "scaler = MinMaxScaler() \n",
        "x_scaled = scaler.fit_transform(x) \n",
        "df_temp = pd.DataFrame(x_scaled, columns=column_names_to_normalize, index = train2.index)\n",
        "train2[column_names_to_normalize] = df_temp\n",
        "train2"
      ],
      "execution_count": 21,
      "outputs": [
        {
          "output_type": "execute_result",
          "data": {
            "text/html": [
              "<div>\n",
              "<style scoped>\n",
              "    .dataframe tbody tr th:only-of-type {\n",
              "        vertical-align: middle;\n",
              "    }\n",
              "\n",
              "    .dataframe tbody tr th {\n",
              "        vertical-align: top;\n",
              "    }\n",
              "\n",
              "    .dataframe thead th {\n",
              "        text-align: right;\n",
              "    }\n",
              "</style>\n",
              "<table border=\"1\" class=\"dataframe\">\n",
              "  <thead>\n",
              "    <tr style=\"text-align: right;\">\n",
              "      <th></th>\n",
              "      <th>latitude</th>\n",
              "      <th>longitude</th>\n",
              "      <th>minimum_nights</th>\n",
              "      <th>number_of_reviews</th>\n",
              "      <th>reviews_per_month</th>\n",
              "      <th>calculated_host_listings_count</th>\n",
              "      <th>availability_365</th>\n",
              "      <th>Private_room</th>\n",
              "      <th>Entire_home/apt</th>\n",
              "      <th>price</th>\n",
              "    </tr>\n",
              "  </thead>\n",
              "  <tbody>\n",
              "    <tr>\n",
              "      <th>0</th>\n",
              "      <td>0.000009</td>\n",
              "      <td>0.999997</td>\n",
              "      <td>0.029851</td>\n",
              "      <td>0.007949</td>\n",
              "      <td>1.95</td>\n",
              "      <td>0.000000</td>\n",
              "      <td>0.054795</td>\n",
              "      <td>1</td>\n",
              "      <td>0</td>\n",
              "      <td>60</td>\n",
              "    </tr>\n",
              "    <tr>\n",
              "      <th>1</th>\n",
              "      <td>0.000006</td>\n",
              "      <td>0.999997</td>\n",
              "      <td>0.000000</td>\n",
              "      <td>0.019078</td>\n",
              "      <td>0.97</td>\n",
              "      <td>0.000000</td>\n",
              "      <td>0.000000</td>\n",
              "      <td>1</td>\n",
              "      <td>0</td>\n",
              "      <td>85</td>\n",
              "    </tr>\n",
              "    <tr>\n",
              "      <th>2</th>\n",
              "      <td>0.000003</td>\n",
              "      <td>0.999994</td>\n",
              "      <td>0.000000</td>\n",
              "      <td>0.009539</td>\n",
              "      <td>2.20</td>\n",
              "      <td>0.000000</td>\n",
              "      <td>0.865753</td>\n",
              "      <td>0</td>\n",
              "      <td>1</td>\n",
              "      <td>85</td>\n",
              "    </tr>\n",
              "    <tr>\n",
              "      <th>3</th>\n",
              "      <td>0.000006</td>\n",
              "      <td>0.999996</td>\n",
              "      <td>0.432836</td>\n",
              "      <td>0.020668</td>\n",
              "      <td>0.24</td>\n",
              "      <td>0.116564</td>\n",
              "      <td>0.797260</td>\n",
              "      <td>0</td>\n",
              "      <td>1</td>\n",
              "      <td>300</td>\n",
              "    </tr>\n",
              "    <tr>\n",
              "      <th>4</th>\n",
              "      <td>0.000003</td>\n",
              "      <td>0.999997</td>\n",
              "      <td>0.029851</td>\n",
              "      <td>0.006359</td>\n",
              "      <td>0.18</td>\n",
              "      <td>0.000000</td>\n",
              "      <td>0.000000</td>\n",
              "      <td>0</td>\n",
              "      <td>1</td>\n",
              "      <td>95</td>\n",
              "    </tr>\n",
              "    <tr>\n",
              "      <th>...</th>\n",
              "      <td>...</td>\n",
              "      <td>...</td>\n",
              "      <td>...</td>\n",
              "      <td>...</td>\n",
              "      <td>...</td>\n",
              "      <td>...</td>\n",
              "      <td>...</td>\n",
              "      <td>...</td>\n",
              "      <td>...</td>\n",
              "      <td>...</td>\n",
              "    </tr>\n",
              "    <tr>\n",
              "      <th>33100</th>\n",
              "      <td>0.000007</td>\n",
              "      <td>0.999997</td>\n",
              "      <td>0.194030</td>\n",
              "      <td>0.000000</td>\n",
              "      <td>0.00</td>\n",
              "      <td>0.000000</td>\n",
              "      <td>0.000000</td>\n",
              "      <td>1</td>\n",
              "      <td>0</td>\n",
              "      <td>75</td>\n",
              "    </tr>\n",
              "    <tr>\n",
              "      <th>33101</th>\n",
              "      <td>0.000004</td>\n",
              "      <td>0.999996</td>\n",
              "      <td>0.029851</td>\n",
              "      <td>0.007949</td>\n",
              "      <td>0.12</td>\n",
              "      <td>0.000000</td>\n",
              "      <td>0.060274</td>\n",
              "      <td>0</td>\n",
              "      <td>1</td>\n",
              "      <td>350</td>\n",
              "    </tr>\n",
              "    <tr>\n",
              "      <th>33102</th>\n",
              "      <td>0.000004</td>\n",
              "      <td>0.999998</td>\n",
              "      <td>0.014925</td>\n",
              "      <td>0.058824</td>\n",
              "      <td>1.21</td>\n",
              "      <td>0.009202</td>\n",
              "      <td>0.432877</td>\n",
              "      <td>1</td>\n",
              "      <td>0</td>\n",
              "      <td>45</td>\n",
              "    </tr>\n",
              "    <tr>\n",
              "      <th>33103</th>\n",
              "      <td>0.000006</td>\n",
              "      <td>0.999997</td>\n",
              "      <td>0.432836</td>\n",
              "      <td>0.036566</td>\n",
              "      <td>0.68</td>\n",
              "      <td>0.000000</td>\n",
              "      <td>0.367123</td>\n",
              "      <td>0</td>\n",
              "      <td>1</td>\n",
              "      <td>235</td>\n",
              "    </tr>\n",
              "    <tr>\n",
              "      <th>33104</th>\n",
              "      <td>0.000005</td>\n",
              "      <td>0.999998</td>\n",
              "      <td>0.432836</td>\n",
              "      <td>0.000000</td>\n",
              "      <td>0.00</td>\n",
              "      <td>0.067485</td>\n",
              "      <td>0.372603</td>\n",
              "      <td>1</td>\n",
              "      <td>0</td>\n",
              "      <td>34</td>\n",
              "    </tr>\n",
              "  </tbody>\n",
              "</table>\n",
              "<p>33105 rows × 10 columns</p>\n",
              "</div>"
            ],
            "text/plain": [
              "       latitude  longitude  ...  Entire_home/apt  price\n",
              "0      0.000009   0.999997  ...                0     60\n",
              "1      0.000006   0.999997  ...                0     85\n",
              "2      0.000003   0.999994  ...                1     85\n",
              "3      0.000006   0.999996  ...                1    300\n",
              "4      0.000003   0.999997  ...                1     95\n",
              "...         ...        ...  ...              ...    ...\n",
              "33100  0.000007   0.999997  ...                0     75\n",
              "33101  0.000004   0.999996  ...                1    350\n",
              "33102  0.000004   0.999998  ...                0     45\n",
              "33103  0.000006   0.999997  ...                1    235\n",
              "33104  0.000005   0.999998  ...                0     34\n",
              "\n",
              "[33105 rows x 10 columns]"
            ]
          },
          "metadata": {
            "tags": []
          },
          "execution_count": 21
        }
      ]
    },
    {
      "cell_type": "markdown",
      "metadata": {
        "id": "_f6vRK0UPA63"
      },
      "source": [
        "### y_train"
      ]
    },
    {
      "cell_type": "code",
      "metadata": {
        "id": "f62EZk7QW_cF",
        "outputId": "27e896cd-67cc-4087-aa07-38a49520e11c",
        "colab": {
          "base_uri": "https://localhost:8080/",
          "height": 406
        }
      },
      "source": [
        "train_label = train2['price'].to_frame()\n",
        "train_label "
      ],
      "execution_count": 22,
      "outputs": [
        {
          "output_type": "execute_result",
          "data": {
            "text/html": [
              "<div>\n",
              "<style scoped>\n",
              "    .dataframe tbody tr th:only-of-type {\n",
              "        vertical-align: middle;\n",
              "    }\n",
              "\n",
              "    .dataframe tbody tr th {\n",
              "        vertical-align: top;\n",
              "    }\n",
              "\n",
              "    .dataframe thead th {\n",
              "        text-align: right;\n",
              "    }\n",
              "</style>\n",
              "<table border=\"1\" class=\"dataframe\">\n",
              "  <thead>\n",
              "    <tr style=\"text-align: right;\">\n",
              "      <th></th>\n",
              "      <th>price</th>\n",
              "    </tr>\n",
              "  </thead>\n",
              "  <tbody>\n",
              "    <tr>\n",
              "      <th>0</th>\n",
              "      <td>60</td>\n",
              "    </tr>\n",
              "    <tr>\n",
              "      <th>1</th>\n",
              "      <td>85</td>\n",
              "    </tr>\n",
              "    <tr>\n",
              "      <th>2</th>\n",
              "      <td>85</td>\n",
              "    </tr>\n",
              "    <tr>\n",
              "      <th>3</th>\n",
              "      <td>300</td>\n",
              "    </tr>\n",
              "    <tr>\n",
              "      <th>4</th>\n",
              "      <td>95</td>\n",
              "    </tr>\n",
              "    <tr>\n",
              "      <th>...</th>\n",
              "      <td>...</td>\n",
              "    </tr>\n",
              "    <tr>\n",
              "      <th>33100</th>\n",
              "      <td>75</td>\n",
              "    </tr>\n",
              "    <tr>\n",
              "      <th>33101</th>\n",
              "      <td>350</td>\n",
              "    </tr>\n",
              "    <tr>\n",
              "      <th>33102</th>\n",
              "      <td>45</td>\n",
              "    </tr>\n",
              "    <tr>\n",
              "      <th>33103</th>\n",
              "      <td>235</td>\n",
              "    </tr>\n",
              "    <tr>\n",
              "      <th>33104</th>\n",
              "      <td>34</td>\n",
              "    </tr>\n",
              "  </tbody>\n",
              "</table>\n",
              "<p>33105 rows × 1 columns</p>\n",
              "</div>"
            ],
            "text/plain": [
              "       price\n",
              "0         60\n",
              "1         85\n",
              "2         85\n",
              "3        300\n",
              "4         95\n",
              "...      ...\n",
              "33100     75\n",
              "33101    350\n",
              "33102     45\n",
              "33103    235\n",
              "33104     34\n",
              "\n",
              "[33105 rows x 1 columns]"
            ]
          },
          "metadata": {
            "tags": []
          },
          "execution_count": 22
        }
      ]
    },
    {
      "cell_type": "code",
      "metadata": {
        "id": "htAOfc09x8i4",
        "outputId": "1efb780d-8086-496e-b5ff-e4a47a6052d1",
        "colab": {
          "base_uri": "https://localhost:8080/",
          "height": 52
        }
      },
      "source": [
        "print('Price mean:', train_label.mean())"
      ],
      "execution_count": 23,
      "outputs": [
        {
          "output_type": "stream",
          "text": [
            "Price mean: price    133.999668\n",
            "dtype: float64\n"
          ],
          "name": "stdout"
        }
      ]
    },
    {
      "cell_type": "code",
      "metadata": {
        "id": "VAki3pQtyAw0",
        "outputId": "c880e477-71c0-4eb8-a07a-f35692166995",
        "colab": {
          "base_uri": "https://localhost:8080/",
          "height": 52
        }
      },
      "source": [
        "print('Price std:', train_label.std())"
      ],
      "execution_count": 24,
      "outputs": [
        {
          "output_type": "stream",
          "text": [
            "Price std: price    94.007105\n",
            "dtype: float64\n"
          ],
          "name": "stdout"
        }
      ]
    },
    {
      "cell_type": "markdown",
      "metadata": {
        "id": "NlbaWHYyPDxF"
      },
      "source": [
        "### X_train"
      ]
    },
    {
      "cell_type": "code",
      "metadata": {
        "id": "wKE5nwZqSmgp",
        "outputId": "bcd07417-d897-40fb-eb0a-783965426d70",
        "colab": {
          "base_uri": "https://localhost:8080/",
          "height": 406
        }
      },
      "source": [
        "train2.drop(['price'], axis=1, inplace=True)\n",
        "train2"
      ],
      "execution_count": 25,
      "outputs": [
        {
          "output_type": "execute_result",
          "data": {
            "text/html": [
              "<div>\n",
              "<style scoped>\n",
              "    .dataframe tbody tr th:only-of-type {\n",
              "        vertical-align: middle;\n",
              "    }\n",
              "\n",
              "    .dataframe tbody tr th {\n",
              "        vertical-align: top;\n",
              "    }\n",
              "\n",
              "    .dataframe thead th {\n",
              "        text-align: right;\n",
              "    }\n",
              "</style>\n",
              "<table border=\"1\" class=\"dataframe\">\n",
              "  <thead>\n",
              "    <tr style=\"text-align: right;\">\n",
              "      <th></th>\n",
              "      <th>latitude</th>\n",
              "      <th>longitude</th>\n",
              "      <th>minimum_nights</th>\n",
              "      <th>number_of_reviews</th>\n",
              "      <th>reviews_per_month</th>\n",
              "      <th>calculated_host_listings_count</th>\n",
              "      <th>availability_365</th>\n",
              "      <th>Private_room</th>\n",
              "      <th>Entire_home/apt</th>\n",
              "    </tr>\n",
              "  </thead>\n",
              "  <tbody>\n",
              "    <tr>\n",
              "      <th>0</th>\n",
              "      <td>0.000009</td>\n",
              "      <td>0.999997</td>\n",
              "      <td>0.029851</td>\n",
              "      <td>0.007949</td>\n",
              "      <td>1.95</td>\n",
              "      <td>0.000000</td>\n",
              "      <td>0.054795</td>\n",
              "      <td>1</td>\n",
              "      <td>0</td>\n",
              "    </tr>\n",
              "    <tr>\n",
              "      <th>1</th>\n",
              "      <td>0.000006</td>\n",
              "      <td>0.999997</td>\n",
              "      <td>0.000000</td>\n",
              "      <td>0.019078</td>\n",
              "      <td>0.97</td>\n",
              "      <td>0.000000</td>\n",
              "      <td>0.000000</td>\n",
              "      <td>1</td>\n",
              "      <td>0</td>\n",
              "    </tr>\n",
              "    <tr>\n",
              "      <th>2</th>\n",
              "      <td>0.000003</td>\n",
              "      <td>0.999994</td>\n",
              "      <td>0.000000</td>\n",
              "      <td>0.009539</td>\n",
              "      <td>2.20</td>\n",
              "      <td>0.000000</td>\n",
              "      <td>0.865753</td>\n",
              "      <td>0</td>\n",
              "      <td>1</td>\n",
              "    </tr>\n",
              "    <tr>\n",
              "      <th>3</th>\n",
              "      <td>0.000006</td>\n",
              "      <td>0.999996</td>\n",
              "      <td>0.432836</td>\n",
              "      <td>0.020668</td>\n",
              "      <td>0.24</td>\n",
              "      <td>0.116564</td>\n",
              "      <td>0.797260</td>\n",
              "      <td>0</td>\n",
              "      <td>1</td>\n",
              "    </tr>\n",
              "    <tr>\n",
              "      <th>4</th>\n",
              "      <td>0.000003</td>\n",
              "      <td>0.999997</td>\n",
              "      <td>0.029851</td>\n",
              "      <td>0.006359</td>\n",
              "      <td>0.18</td>\n",
              "      <td>0.000000</td>\n",
              "      <td>0.000000</td>\n",
              "      <td>0</td>\n",
              "      <td>1</td>\n",
              "    </tr>\n",
              "    <tr>\n",
              "      <th>...</th>\n",
              "      <td>...</td>\n",
              "      <td>...</td>\n",
              "      <td>...</td>\n",
              "      <td>...</td>\n",
              "      <td>...</td>\n",
              "      <td>...</td>\n",
              "      <td>...</td>\n",
              "      <td>...</td>\n",
              "      <td>...</td>\n",
              "    </tr>\n",
              "    <tr>\n",
              "      <th>33100</th>\n",
              "      <td>0.000007</td>\n",
              "      <td>0.999997</td>\n",
              "      <td>0.194030</td>\n",
              "      <td>0.000000</td>\n",
              "      <td>0.00</td>\n",
              "      <td>0.000000</td>\n",
              "      <td>0.000000</td>\n",
              "      <td>1</td>\n",
              "      <td>0</td>\n",
              "    </tr>\n",
              "    <tr>\n",
              "      <th>33101</th>\n",
              "      <td>0.000004</td>\n",
              "      <td>0.999996</td>\n",
              "      <td>0.029851</td>\n",
              "      <td>0.007949</td>\n",
              "      <td>0.12</td>\n",
              "      <td>0.000000</td>\n",
              "      <td>0.060274</td>\n",
              "      <td>0</td>\n",
              "      <td>1</td>\n",
              "    </tr>\n",
              "    <tr>\n",
              "      <th>33102</th>\n",
              "      <td>0.000004</td>\n",
              "      <td>0.999998</td>\n",
              "      <td>0.014925</td>\n",
              "      <td>0.058824</td>\n",
              "      <td>1.21</td>\n",
              "      <td>0.009202</td>\n",
              "      <td>0.432877</td>\n",
              "      <td>1</td>\n",
              "      <td>0</td>\n",
              "    </tr>\n",
              "    <tr>\n",
              "      <th>33103</th>\n",
              "      <td>0.000006</td>\n",
              "      <td>0.999997</td>\n",
              "      <td>0.432836</td>\n",
              "      <td>0.036566</td>\n",
              "      <td>0.68</td>\n",
              "      <td>0.000000</td>\n",
              "      <td>0.367123</td>\n",
              "      <td>0</td>\n",
              "      <td>1</td>\n",
              "    </tr>\n",
              "    <tr>\n",
              "      <th>33104</th>\n",
              "      <td>0.000005</td>\n",
              "      <td>0.999998</td>\n",
              "      <td>0.432836</td>\n",
              "      <td>0.000000</td>\n",
              "      <td>0.00</td>\n",
              "      <td>0.067485</td>\n",
              "      <td>0.372603</td>\n",
              "      <td>1</td>\n",
              "      <td>0</td>\n",
              "    </tr>\n",
              "  </tbody>\n",
              "</table>\n",
              "<p>33105 rows × 9 columns</p>\n",
              "</div>"
            ],
            "text/plain": [
              "       latitude  longitude  ...  Private_room  Entire_home/apt\n",
              "0      0.000009   0.999997  ...             1                0\n",
              "1      0.000006   0.999997  ...             1                0\n",
              "2      0.000003   0.999994  ...             0                1\n",
              "3      0.000006   0.999996  ...             0                1\n",
              "4      0.000003   0.999997  ...             0                1\n",
              "...         ...        ...  ...           ...              ...\n",
              "33100  0.000007   0.999997  ...             1                0\n",
              "33101  0.000004   0.999996  ...             0                1\n",
              "33102  0.000004   0.999998  ...             1                0\n",
              "33103  0.000006   0.999997  ...             0                1\n",
              "33104  0.000005   0.999998  ...             1                0\n",
              "\n",
              "[33105 rows x 9 columns]"
            ]
          },
          "metadata": {
            "tags": []
          },
          "execution_count": 25
        }
      ]
    },
    {
      "cell_type": "markdown",
      "metadata": {
        "id": "7JuqEWQV6cHz"
      },
      "source": [
        "## Train & Validation"
      ]
    },
    {
      "cell_type": "code",
      "metadata": {
        "id": "kMspE6WkTsXl",
        "outputId": "2344f492-1f26-4b35-e37a-e8c02be4bb28",
        "colab": {
          "base_uri": "https://localhost:8080/",
          "height": 87
        }
      },
      "source": [
        "X_train, X_validation, y_train, y_validation = train_test_split(train2, train_label, test_size=0.15, random_state=0)\n",
        "print('X_train dimensions:', X_train.shape)\n",
        "print('Y_train dimensions:', y_train.shape)\n",
        "print('X_validation dimensions:', X_validation.shape)\n",
        "print('Y_validation dimensions:', y_validation.shape)"
      ],
      "execution_count": 26,
      "outputs": [
        {
          "output_type": "stream",
          "text": [
            "X_train dimensions: (28139, 9)\n",
            "Y_train dimensions: (28139, 1)\n",
            "X_validation dimensions: (4966, 9)\n",
            "Y_validation dimensions: (4966, 1)\n"
          ],
          "name": "stdout"
        }
      ]
    },
    {
      "cell_type": "markdown",
      "metadata": {
        "id": "WX_qSrXB6TIg"
      },
      "source": [
        "## Model"
      ]
    },
    {
      "cell_type": "markdown",
      "metadata": {
        "id": "gZkV1GmpoyTW"
      },
      "source": [
        "### LRFinder"
      ]
    },
    {
      "cell_type": "markdown",
      "metadata": {
        "id": "KeKKLxHnzr2N"
      },
      "source": [
        "### configuration and train"
      ]
    },
    {
      "cell_type": "code",
      "metadata": {
        "id": "S5Zy-bG0h3aa"
      },
      "source": [
        "from keras_lr_finder import LRFinder\n",
        "from tensorflow.keras.optimizers import SGD, Adam"
      ],
      "execution_count": 27,
      "outputs": []
    },
    {
      "cell_type": "code",
      "metadata": {
        "id": "zP5R2OyoiCPn"
      },
      "source": [
        "# Model configuration\n",
        "activation = 'relu'\n",
        "batch_size = 32\n",
        "epochs = 15\n",
        "dims = y_train.shape[1]\n",
        "start_lr = 10e-5\n",
        "end_lr = 1\n",
        "moving_average = 20"
      ],
      "execution_count": 28,
      "outputs": []
    },
    {
      "cell_type": "code",
      "metadata": {
        "id": "BAWnivnkkWC3"
      },
      "source": [
        "# Determine tests you want to perform\n",
        "tests = [\n",
        "  (SGD(), 'SGD'),\n",
        "  (Adam(), 'Adam'),\n",
        "]"
      ],
      "execution_count": 29,
      "outputs": []
    },
    {
      "cell_type": "code",
      "metadata": {
        "id": "KekWTOfIiru9"
      },
      "source": [
        "# Set containers for tests\n",
        "test_learning_rates = []\n",
        "test_losses = []\n",
        "test_loss_changes = []\n",
        "labels = []"
      ],
      "execution_count": 30,
      "outputs": []
    },
    {
      "cell_type": "code",
      "metadata": {
        "id": "6QIsgQJvUEBZ"
      },
      "source": [
        "def NeuralNetwork(X, n_outputs, activation):\n",
        "    inputs = Input(shape = (X.shape[1])) \n",
        "    x = layers.Dense(16, activation = activation) (inputs)\n",
        "    x = layers.Dense(8, activation = activation) (x)\n",
        "    x = layers.Dense(n_outputs) (x) \n",
        "    model = Model(inputs, x)\n",
        "    #model.compile(loss = 'mse', optimizer=optimizer, metrics = [tf.keras.metrics.RootMeanSquaredError(), tf.keras.metrics.MeanAbsoluteError()]) \n",
        "    return model"
      ],
      "execution_count": 31,
      "outputs": []
    },
    {
      "cell_type": "code",
      "metadata": {
        "id": "HilBaGNhjTK6",
        "outputId": "ddc330b9-e042-4490-c4c1-25a4bec0c482",
        "colab": {
          "base_uri": "https://localhost:8080/",
          "height": 1000
        }
      },
      "source": [
        "# Perform each test\n",
        "for test_optimizer, label in tests:\n",
        "\n",
        "  # Compile the model\n",
        "  model = NeuralNetwork(X=X_train, n_outputs=dims, activation=activation)\n",
        "  model.compile(loss = 'mae', optimizer=test_optimizer, metrics = [tf.keras.metrics.RootMeanSquaredError()]) \n",
        "\n",
        "  # Instantiate the Learning Rate Range Test / LR Finder\n",
        "  lr_finder = LRFinder(model)\n",
        "\n",
        "  # Perform the Learning Rate Range Test\n",
        "  outputs = lr_finder.find(X_train, y_train, start_lr=start_lr, end_lr=end_lr, batch_size=batch_size, epochs=epochs)\n",
        "  #lr_finder.plot_loss(n_skip_beginning=20, n_skip_end=5)\n",
        "\n",
        "\n",
        "  # Get values\n",
        "  learning_rates  = lr_finder.lrs\n",
        "  losses          = lr_finder.losses\n",
        "  loss_changes = []\n",
        "\n",
        "  # Compute smoothed loss changes\n",
        "  # Inspired by Keras LR Finder: https://github.com/surmenok/keras_lr_finder/blob/master/keras_lr_finder/lr_finder.py\n",
        "  for i in range(moving_average, len(learning_rates)):\n",
        "    loss_changes.append((losses[i] - losses[i - moving_average]) / moving_average)\n",
        "\n",
        "  # Append values to container\n",
        "  test_learning_rates.append(learning_rates)\n",
        "  test_losses.append(losses)\n",
        "  test_loss_changes.append(loss_changes)\n",
        "  labels.append(label)\n",
        "\n",
        "  K.clear_session()\n",
        "  del model\n"
      ],
      "execution_count": 32,
      "outputs": [
        {
          "output_type": "stream",
          "text": [
            "Epoch 1/15\n",
            "880/880 [==============================] - 2s 2ms/step - loss: 133.6887 - root_mean_squared_error: 163.6246\n",
            "Epoch 2/15\n",
            "880/880 [==============================] - 2s 3ms/step - loss: 131.0566 - root_mean_squared_error: 161.4314\n",
            "Epoch 3/15\n",
            "880/880 [==============================] - 2s 3ms/step - loss: 89.2869 - root_mean_squared_error: 126.3167\n",
            "Epoch 4/15\n",
            "880/880 [==============================] - 2s 3ms/step - loss: 52.3497 - root_mean_squared_error: 84.0472\n",
            "Epoch 5/15\n",
            "880/880 [==============================] - 2s 2ms/step - loss: 50.6848 - root_mean_squared_error: 81.5570\n",
            "Epoch 6/15\n",
            "880/880 [==============================] - 2s 2ms/step - loss: 50.4405 - root_mean_squared_error: 81.2220\n",
            "Epoch 7/15\n",
            "880/880 [==============================] - 2s 3ms/step - loss: 50.1776 - root_mean_squared_error: 80.8843\n",
            "Epoch 8/15\n",
            "880/880 [==============================] - 2s 2ms/step - loss: 50.0338 - root_mean_squared_error: 80.5260\n",
            "Epoch 9/15\n",
            "880/880 [==============================] - 2s 2ms/step - loss: 50.3893 - root_mean_squared_error: 80.7625\n",
            "Epoch 10/15\n",
            "880/880 [==============================] - 2s 2ms/step - loss: 51.4783 - root_mean_squared_error: 81.7576\n",
            "Epoch 11/15\n",
            "880/880 [==============================] - 2s 2ms/step - loss: 52.5804 - root_mean_squared_error: 83.6098\n",
            "Epoch 12/15\n",
            "880/880 [==============================] - 2s 2ms/step - loss: 54.1574 - root_mean_squared_error: 85.1313\n",
            "Epoch 13/15\n",
            "880/880 [==============================] - 2s 3ms/step - loss: 58.2783 - root_mean_squared_error: 87.9687\n",
            "Epoch 14/15\n",
            "880/880 [==============================] - 2s 3ms/step - loss: 51.3925 - root_mean_squared_error: 82.6666\n",
            "Epoch 15/15\n",
            "880/880 [==============================] - 2s 3ms/step - loss: 51.6404 - root_mean_squared_error: 82.7822\n",
            "Epoch 1/15\n",
            "880/880 [==============================] - 2s 3ms/step - loss: 132.6959 - root_mean_squared_error: 162.8380\n",
            "Epoch 2/15\n",
            "880/880 [==============================] - 2s 3ms/step - loss: 103.8281 - root_mean_squared_error: 140.1022\n",
            "Epoch 3/15\n",
            "880/880 [==============================] - 2s 3ms/step - loss: 64.5978 - root_mean_squared_error: 99.0864\n",
            "Epoch 4/15\n",
            "880/880 [==============================] - 2s 3ms/step - loss: 51.5840 - root_mean_squared_error: 82.8352\n",
            "Epoch 5/15\n",
            "880/880 [==============================] - 2s 3ms/step - loss: 50.1289 - root_mean_squared_error: 81.0584\n",
            "Epoch 6/15\n",
            "880/880 [==============================] - 2s 3ms/step - loss: 49.7564 - root_mean_squared_error: 80.5718\n",
            "Epoch 7/15\n",
            "880/880 [==============================] - 2s 3ms/step - loss: 49.5757 - root_mean_squared_error: 80.1930\n",
            "Epoch 8/15\n",
            "880/880 [==============================] - 2s 3ms/step - loss: 49.5546 - root_mean_squared_error: 80.0313\n",
            "Epoch 9/15\n",
            "880/880 [==============================] - 2s 3ms/step - loss: 49.6389 - root_mean_squared_error: 79.8975\n",
            "Epoch 10/15\n",
            "880/880 [==============================] - 2s 3ms/step - loss: 49.8105 - root_mean_squared_error: 79.9629\n",
            "Epoch 11/15\n",
            "880/880 [==============================] - 2s 3ms/step - loss: 50.1565 - root_mean_squared_error: 80.4070\n",
            "Epoch 12/15\n",
            "880/880 [==============================] - 2s 3ms/step - loss: 50.5746 - root_mean_squared_error: 80.5582\n",
            "Epoch 13/15\n",
            "880/880 [==============================] - 2s 3ms/step - loss: 50.7096 - root_mean_squared_error: 81.0770\n",
            "Epoch 14/15\n",
            "880/880 [==============================] - 2s 3ms/step - loss: 51.2940 - root_mean_squared_error: 81.9633\n",
            "Epoch 15/15\n",
            "880/880 [==============================] - 2s 3ms/step - loss: 52.0859 - root_mean_squared_error: 83.0952\n"
          ],
          "name": "stdout"
        }
      ]
    },
    {
      "cell_type": "markdown",
      "metadata": {
        "id": "wt43h5LKzkCR"
      },
      "source": [
        "### plot for Loss Deltas and Values"
      ]
    },
    {
      "cell_type": "code",
      "metadata": {
        "id": "fb2693H5kgKg",
        "outputId": "7840ab8b-84fb-44e2-fee0-c77dfa59432c",
        "colab": {
          "base_uri": "https://localhost:8080/",
          "height": 581
        }
      },
      "source": [
        "# Generate plot for Loss Deltas\n",
        "for i in range(0, len(test_learning_rates)):\n",
        "  plt.style.use('dark_background')\n",
        "  plt.plot(test_learning_rates[i][moving_average:], test_loss_changes[i], label=labels[i])\n",
        "plt.xscale('log')\n",
        "plt.legend(loc='upper left')\n",
        "plt.ylabel('loss delta')\n",
        "plt.xlabel('learning rate (log scale)')\n",
        "plt.title('Results for Learning Rate Range Test / Loss Deltas for Learning Rate')\n",
        "plt.show()\n",
        "\n",
        "# Generate plot for Loss Values\n",
        "for i in range(0, len(test_learning_rates)):\n",
        "  plt.style.use('dark_background')\n",
        "  plt.plot(test_learning_rates[i], test_losses[i], label=labels[i])\n",
        "plt.xscale('log')\n",
        "plt.legend(loc='upper left')\n",
        "plt.ylabel('loss')\n",
        "plt.xlabel('learning rate (log scale)')\n",
        "plt.title('Results for Learning Rate Range Test / Loss Values for Learning Rate')\n",
        "plt.show()"
      ],
      "execution_count": 33,
      "outputs": [
        {
          "output_type": "display_data",
          "data": {
            "image/png": "[encoded data removed]",
            "text/plain": [
              "<Figure size 432x288 with 1 Axes>"
            ]
          },
          "metadata": {
            "tags": []
          }
        },
        {
          "output_type": "display_data",
          "data": {
            "image/png": "[encoded data removed]",
            "text/plain": [
              "<Figure size 432x288 with 1 Axes>"
            ]
          },
          "metadata": {
            "tags": []
          }
        }
      ]
    },
    {
      "cell_type": "markdown",
      "metadata": {
        "id": "DvkmbpwYruB1"
      },
      "source": [
        "### Activation Function"
      ]
    },
    {
      "cell_type": "markdown",
      "metadata": {
        "id": "HjGiDyO1z5Jf"
      },
      "source": [
        "### configuration and train"
      ]
    },
    {
      "cell_type": "markdown",
      "metadata": {
        "id": "8u9mtOygfJeO"
      },
      "source": [
        "\n",
        "alpha parameter of the Leaky-Relu function"
      ]
    },
    {
      "cell_type": "code",
      "metadata": {
        "id": "tbkLJDVTZjlH"
      },
      "source": [
        "get_custom_objects().update({'leaky-relu': Activation(LeakyReLU(alpha=0.01))})"
      ],
      "execution_count": 34,
      "outputs": []
    },
    {
      "cell_type": "markdown",
      "metadata": {
        "id": "-WpnxOLffPxp"
      },
      "source": [
        "GELU function"
      ]
    },
    {
      "cell_type": "code",
      "metadata": {
        "id": "P2a5Py0GcMxC"
      },
      "source": [
        "def gelu(x):\n",
        "    return 0.5 * x * (1 + tf.tanh(tf.sqrt(2 / np.pi) * (x + 0.044715 * tf.pow(x, 3))))\n",
        "get_custom_objects().update({'gelu': Activation(gelu)})"
      ],
      "execution_count": 35,
      "outputs": []
    },
    {
      "cell_type": "markdown",
      "metadata": {
        "id": "R7cIV4hWysK5"
      },
      "source": [
        "Swish function"
      ]
    },
    {
      "cell_type": "code",
      "metadata": {
        "id": "rC6DAFHiywM2"
      },
      "source": [
        "def swish(x, beta = 1):\n",
        "    return (x * sigmoid(beta * x))\n",
        "get_custom_objects().update({'swish': Activation(swish)})"
      ],
      "execution_count": 36,
      "outputs": []
    },
    {
      "cell_type": "markdown",
      "metadata": {
        "id": "3ZqT5tICeXBI"
      },
      "source": [
        "activation functions"
      ]
    },
    {
      "cell_type": "code",
      "metadata": {
        "id": "ik8xUv38U3t5"
      },
      "source": [
        "#act_func = ['relu']\n",
        "act_func = ['relu', 'leaky-relu', 'elu', 'gelu', 'selu', 'swish']"
      ],
      "execution_count": 37,
      "outputs": []
    },
    {
      "cell_type": "markdown",
      "metadata": {
        "id": "yb1QNHieedM8"
      },
      "source": [
        "training model"
      ]
    },
    {
      "cell_type": "code",
      "metadata": {
        "id": "gfnV9ORur4NU",
        "outputId": "cf5633d9-c0e7-41f6-b760-2b2c6838cb8d",
        "colab": {
          "base_uri": "https://localhost:8080/",
          "height": 336
        }
      },
      "source": [
        "result = []\n",
        "for activation in act_func:\n",
        "    print('\\nTraining with -->{0}<-- activation function\\n'.format(activation))\n",
        "    model = NeuralNetwork(X = X_train, activation=activation, n_outputs=dims)\n",
        "    model.compile(loss = 'mae', optimizer=Adam(lr=10e-3), metrics = [tf.keras.metrics.RootMeanSquaredError()]) \n",
        "    \n",
        "    history = model.fit(X_train, y_train,\n",
        "          batch_size=batch_size,\n",
        "          epochs=epochs,\n",
        "          verbose=0,\n",
        "          validation_data=(X_validation, y_validation))\n",
        "    \n",
        "    result.append(history)\n",
        "    \n",
        "    K.clear_session()\n",
        "    del model"
      ],
      "execution_count": 38,
      "outputs": [
        {
          "output_type": "stream",
          "text": [
            "\n",
            "Training with -->relu<-- activation function\n",
            "\n",
            "\n",
            "Training with -->leaky-relu<-- activation function\n",
            "\n",
            "\n",
            "Training with -->elu<-- activation function\n",
            "\n",
            "\n",
            "Training with -->gelu<-- activation function\n",
            "\n",
            "\n",
            "Training with -->selu<-- activation function\n",
            "\n",
            "\n",
            "Training with -->swish<-- activation function\n",
            "\n"
          ],
          "name": "stdout"
        }
      ]
    },
    {
      "cell_type": "markdown",
      "metadata": {
        "id": "vHxbtpGcfh42"
      },
      "source": [
        "### plot of validation rmse"
      ]
    },
    {
      "cell_type": "code",
      "metadata": {
        "id": "-EmJu4udZ84g",
        "outputId": "f86d23f8-1988-4f4e-84da-4f6b7497e83f",
        "colab": {
          "base_uri": "https://localhost:8080/",
          "height": 638
        }
      },
      "source": [
        "rmse_finale = []\n",
        "\n",
        "def plot_act_func_results(results, activation_functions = []):\n",
        "    plt.figure(figsize=(10,7))\n",
        "    plt.style.use('dark_background')\n",
        "    \n",
        "    # Plot of the validation root mean squared error\n",
        "    plt.figure(figsize=(10,10))\n",
        "    \n",
        "    for act_func in results:\n",
        "        plt.plot(act_func.history['val_root_mean_squared_error'])\n",
        "        rmse_finale.append(act_func.history['val_root_mean_squared_error'][-1])\n",
        "    \n",
        "    plt.title('Activation Functions')\n",
        "    plt.ylabel('Validation RMSE')\n",
        "    plt.xlabel('Epoch')\n",
        "    plt.legend(activation_functions)\n",
        "    plt.show()\n",
        "\n",
        "plot_act_func_results(result, act_func)"
      ],
      "execution_count": 39,
      "outputs": [
        {
          "output_type": "display_data",
          "data": {
            "text/plain": [
              "<Figure size 720x504 with 0 Axes>"
            ]
          },
          "metadata": {
            "tags": []
          }
        },
        {
          "output_type": "display_data",
          "data": {
            "image/png": "[encoded data removed]",
            "text/plain": [
              "<Figure size 720x720 with 1 Axes>"
            ]
          },
          "metadata": {
            "tags": []
          }
        }
      ]
    },
    {
      "cell_type": "markdown",
      "metadata": {
        "id": "I612LoikeoKN"
      },
      "source": [
        "final model"
      ]
    },
    {
      "cell_type": "code",
      "metadata": {
        "id": "6QVOjv_wdDQQ",
        "outputId": "aa82ac25-ea93-4582-d5e8-a96ad3489101",
        "colab": {
          "base_uri": "https://localhost:8080/",
          "height": 852
        }
      },
      "source": [
        "activation = 'gelu'\n",
        "model = NeuralNetwork(X = X_train, activation=activation, n_outputs=dims)\n",
        "model.compile(loss = 'mae', optimizer=Adam(lr=10e-3), metrics = [tf.keras.metrics.RootMeanSquaredError()]) \n",
        "model.summary()\n",
        "model.fit(X_train, y_train,\n",
        "          batch_size=batch_size,\n",
        "          epochs=epochs,\n",
        "          verbose=1)"
      ],
      "execution_count": 40,
      "outputs": [
        {
          "output_type": "stream",
          "text": [
            "Model: \"functional_1\"\n",
            "_________________________________________________________________\n",
            "Layer (type)                 Output Shape              Param #   \n",
            "=================================================================\n",
            "input_1 (InputLayer)         [(None, 9)]               0         \n",
            "_________________________________________________________________\n",
            "dense (Dense)                (None, 16)                160       \n",
            "_________________________________________________________________\n",
            "dense_1 (Dense)              (None, 8)                 136       \n",
            "_________________________________________________________________\n",
            "dense_2 (Dense)              (None, 1)                 9         \n",
            "=================================================================\n",
            "Total params: 305\n",
            "Trainable params: 305\n",
            "Non-trainable params: 0\n",
            "_________________________________________________________________\n",
            "Epoch 1/15\n",
            "880/880 [==============================] - 2s 2ms/step - loss: 54.7825 - root_mean_squared_error: 86.9232\n",
            "Epoch 2/15\n",
            "880/880 [==============================] - 2s 2ms/step - loss: 49.7125 - root_mean_squared_error: 80.1871\n",
            "Epoch 3/15\n",
            "880/880 [==============================] - 2s 2ms/step - loss: 49.3282 - root_mean_squared_error: 79.5953\n",
            "Epoch 4/15\n",
            "880/880 [==============================] - 2s 2ms/step - loss: 49.1407 - root_mean_squared_error: 79.4759\n",
            "Epoch 5/15\n",
            "880/880 [==============================] - 2s 2ms/step - loss: 49.0712 - root_mean_squared_error: 79.3222\n",
            "Epoch 6/15\n",
            "880/880 [==============================] - 2s 2ms/step - loss: 48.9308 - root_mean_squared_error: 79.2264\n",
            "Epoch 7/15\n",
            "880/880 [==============================] - 2s 2ms/step - loss: 48.8027 - root_mean_squared_error: 79.0221\n",
            "Epoch 8/15\n",
            "880/880 [==============================] - 2s 2ms/step - loss: 48.7793 - root_mean_squared_error: 79.0166\n",
            "Epoch 9/15\n",
            "880/880 [==============================] - 2s 2ms/step - loss: 48.7477 - root_mean_squared_error: 78.9152\n",
            "Epoch 10/15\n",
            "880/880 [==============================] - 2s 2ms/step - loss: 48.7902 - root_mean_squared_error: 78.8837\n",
            "Epoch 11/15\n",
            "880/880 [==============================] - 2s 2ms/step - loss: 48.6668 - root_mean_squared_error: 78.7835\n",
            "Epoch 12/15\n",
            "880/880 [==============================] - 2s 2ms/step - loss: 48.6839 - root_mean_squared_error: 78.7709\n",
            "Epoch 13/15\n",
            "880/880 [==============================] - 2s 2ms/step - loss: 48.6325 - root_mean_squared_error: 78.6900\n",
            "Epoch 14/15\n",
            "880/880 [==============================] - 2s 2ms/step - loss: 48.5928 - root_mean_squared_error: 78.6511\n",
            "Epoch 15/15\n",
            "880/880 [==============================] - 2s 2ms/step - loss: 48.5502 - root_mean_squared_error: 78.6171\n"
          ],
          "name": "stdout"
        },
        {
          "output_type": "execute_result",
          "data": {
            "text/plain": [
              "<tensorflow.python.keras.callbacks.History at 0x7fafa3d5d668>"
            ]
          },
          "metadata": {
            "tags": []
          },
          "execution_count": 40
        }
      ]
    },
    {
      "cell_type": "markdown",
      "metadata": {
        "id": "j9K0HrbiscrK"
      },
      "source": [
        "### Testing"
      ]
    },
    {
      "cell_type": "markdown",
      "metadata": {
        "id": "N8ibD9TbelB8"
      },
      "source": [
        "X_test"
      ]
    },
    {
      "cell_type": "code",
      "metadata": {
        "id": "ZRfqzmkB8OU9",
        "outputId": "878ac961-0969-41ff-ede0-6effde6be494",
        "colab": {
          "base_uri": "https://localhost:8080/",
          "height": 287
        }
      },
      "source": [
        "test.drop(['Unnamed: 0'], axis=1, inplace=True)\n",
        "test.describe()"
      ],
      "execution_count": 41,
      "outputs": [
        {
          "output_type": "execute_result",
          "data": {
            "text/html": [
              "<div>\n",
              "<style scoped>\n",
              "    .dataframe tbody tr th:only-of-type {\n",
              "        vertical-align: middle;\n",
              "    }\n",
              "\n",
              "    .dataframe tbody tr th {\n",
              "        vertical-align: top;\n",
              "    }\n",
              "\n",
              "    .dataframe thead th {\n",
              "        text-align: right;\n",
              "    }\n",
              "</style>\n",
              "<table border=\"1\" class=\"dataframe\">\n",
              "  <thead>\n",
              "    <tr style=\"text-align: right;\">\n",
              "      <th></th>\n",
              "      <th>latitude</th>\n",
              "      <th>longitude</th>\n",
              "      <th>minimum_nights</th>\n",
              "      <th>number_of_reviews</th>\n",
              "      <th>reviews_per_month</th>\n",
              "      <th>calculated_host_listings_count</th>\n",
              "      <th>availability_365</th>\n",
              "      <th>Private_room</th>\n",
              "      <th>Entire_home/apt</th>\n",
              "    </tr>\n",
              "  </thead>\n",
              "  <tbody>\n",
              "    <tr>\n",
              "      <th>count</th>\n",
              "      <td>3765.000000</td>\n",
              "      <td>3765.000000</td>\n",
              "      <td>3765.000000</td>\n",
              "      <td>3765.000000</td>\n",
              "      <td>3765.000000</td>\n",
              "      <td>3765.000000</td>\n",
              "      <td>3765.000000</td>\n",
              "      <td>3765.000000</td>\n",
              "      <td>3765.000000</td>\n",
              "    </tr>\n",
              "    <tr>\n",
              "      <th>mean</th>\n",
              "      <td>397.429772</td>\n",
              "      <td>-623.385344</td>\n",
              "      <td>7.717663</td>\n",
              "      <td>22.546348</td>\n",
              "      <td>1.073421</td>\n",
              "      <td>8.124568</td>\n",
              "      <td>115.432669</td>\n",
              "      <td>0.451262</td>\n",
              "      <td>0.526959</td>\n",
              "    </tr>\n",
              "    <tr>\n",
              "      <th>std</th>\n",
              "      <td>3793.819578</td>\n",
              "      <td>6348.269973</td>\n",
              "      <td>31.688428</td>\n",
              "      <td>42.644924</td>\n",
              "      <td>1.553516</td>\n",
              "      <td>37.043267</td>\n",
              "      <td>132.790393</td>\n",
              "      <td>0.497685</td>\n",
              "      <td>0.499339</td>\n",
              "    </tr>\n",
              "    <tr>\n",
              "      <th>min</th>\n",
              "      <td>40.507080</td>\n",
              "      <td>-74124.000000</td>\n",
              "      <td>1.000000</td>\n",
              "      <td>0.000000</td>\n",
              "      <td>0.000000</td>\n",
              "      <td>1.000000</td>\n",
              "      <td>0.000000</td>\n",
              "      <td>0.000000</td>\n",
              "      <td>0.000000</td>\n",
              "    </tr>\n",
              "    <tr>\n",
              "      <th>25%</th>\n",
              "      <td>40.689430</td>\n",
              "      <td>-73.984260</td>\n",
              "      <td>1.000000</td>\n",
              "      <td>1.000000</td>\n",
              "      <td>0.040000</td>\n",
              "      <td>1.000000</td>\n",
              "      <td>0.000000</td>\n",
              "      <td>0.000000</td>\n",
              "      <td>0.000000</td>\n",
              "    </tr>\n",
              "    <tr>\n",
              "      <th>50%</th>\n",
              "      <td>40.723370</td>\n",
              "      <td>-73.956270</td>\n",
              "      <td>2.000000</td>\n",
              "      <td>5.000000</td>\n",
              "      <td>0.380000</td>\n",
              "      <td>1.000000</td>\n",
              "      <td>51.000000</td>\n",
              "      <td>0.000000</td>\n",
              "      <td>1.000000</td>\n",
              "    </tr>\n",
              "    <tr>\n",
              "      <th>75%</th>\n",
              "      <td>40.763420</td>\n",
              "      <td>-73.935150</td>\n",
              "      <td>5.000000</td>\n",
              "      <td>24.000000</td>\n",
              "      <td>1.550000</td>\n",
              "      <td>2.000000</td>\n",
              "      <td>231.000000</td>\n",
              "      <td>1.000000</td>\n",
              "      <td>1.000000</td>\n",
              "    </tr>\n",
              "    <tr>\n",
              "      <th>max</th>\n",
              "      <td>40833.000000</td>\n",
              "      <td>-73.724350</td>\n",
              "      <td>1250.000000</td>\n",
              "      <td>447.000000</td>\n",
              "      <td>20.940000</td>\n",
              "      <td>327.000000</td>\n",
              "      <td>365.000000</td>\n",
              "      <td>1.000000</td>\n",
              "      <td>1.000000</td>\n",
              "    </tr>\n",
              "  </tbody>\n",
              "</table>\n",
              "</div>"
            ],
            "text/plain": [
              "           latitude     longitude  ...  Private_room  Entire_home/apt\n",
              "count   3765.000000   3765.000000  ...   3765.000000      3765.000000\n",
              "mean     397.429772   -623.385344  ...      0.451262         0.526959\n",
              "std     3793.819578   6348.269973  ...      0.497685         0.499339\n",
              "min       40.507080 -74124.000000  ...      0.000000         0.000000\n",
              "25%       40.689430    -73.984260  ...      0.000000         0.000000\n",
              "50%       40.723370    -73.956270  ...      0.000000         1.000000\n",
              "75%       40.763420    -73.935150  ...      1.000000         1.000000\n",
              "max    40833.000000    -73.724350  ...      1.000000         1.000000\n",
              "\n",
              "[8 rows x 9 columns]"
            ]
          },
          "metadata": {
            "tags": []
          },
          "execution_count": 41
        }
      ]
    },
    {
      "cell_type": "code",
      "metadata": {
        "id": "VJgNLskcP_w5",
        "outputId": "098d760e-a5e1-4feb-8750-cf052c721027",
        "colab": {
          "base_uri": "https://localhost:8080/",
          "height": 606
        }
      },
      "source": [
        "test_hist = test.hist(bins=15, figsize=(10,10))"
      ],
      "execution_count": 42,
      "outputs": [
        {
          "output_type": "display_data",
          "data": {
            "image/png": "[encoded data removed]",
            "text/plain": [
              "<Figure size 720x720 with 9 Axes>"
            ]
          },
          "metadata": {
            "tags": []
          }
        }
      ]
    },
    {
      "cell_type": "code",
      "metadata": {
        "id": "reTvqBhW6lpM",
        "outputId": "398a3eb3-01fc-4c44-85de-aefd79572cbb",
        "colab": {
          "base_uri": "https://localhost:8080/",
          "height": 406
        }
      },
      "source": [
        "x = test[column_names_to_normalize].values\n",
        "x_scaled = scaler.fit_transform(x) \n",
        "df_temp = pd.DataFrame(x_scaled, columns=column_names_to_normalize, index = test.index)\n",
        "test[column_names_to_normalize] = df_temp\n",
        "test"
      ],
      "execution_count": 43,
      "outputs": [
        {
          "output_type": "execute_result",
          "data": {
            "text/html": [
              "<div>\n",
              "<style scoped>\n",
              "    .dataframe tbody tr th:only-of-type {\n",
              "        vertical-align: middle;\n",
              "    }\n",
              "\n",
              "    .dataframe tbody tr th {\n",
              "        vertical-align: top;\n",
              "    }\n",
              "\n",
              "    .dataframe thead th {\n",
              "        text-align: right;\n",
              "    }\n",
              "</style>\n",
              "<table border=\"1\" class=\"dataframe\">\n",
              "  <thead>\n",
              "    <tr style=\"text-align: right;\">\n",
              "      <th></th>\n",
              "      <th>latitude</th>\n",
              "      <th>longitude</th>\n",
              "      <th>minimum_nights</th>\n",
              "      <th>number_of_reviews</th>\n",
              "      <th>reviews_per_month</th>\n",
              "      <th>calculated_host_listings_count</th>\n",
              "      <th>availability_365</th>\n",
              "      <th>Private_room</th>\n",
              "      <th>Entire_home/apt</th>\n",
              "    </tr>\n",
              "  </thead>\n",
              "  <tbody>\n",
              "    <tr>\n",
              "      <th>0</th>\n",
              "      <td>0.000004</td>\n",
              "      <td>0.999997</td>\n",
              "      <td>0.000801</td>\n",
              "      <td>0.008949</td>\n",
              "      <td>0.17</td>\n",
              "      <td>0.000000</td>\n",
              "      <td>0.000000</td>\n",
              "      <td>0</td>\n",
              "      <td>1</td>\n",
              "    </tr>\n",
              "    <tr>\n",
              "      <th>1</th>\n",
              "      <td>0.000004</td>\n",
              "      <td>0.999997</td>\n",
              "      <td>0.000000</td>\n",
              "      <td>0.020134</td>\n",
              "      <td>0.61</td>\n",
              "      <td>0.000000</td>\n",
              "      <td>0.000000</td>\n",
              "      <td>1</td>\n",
              "      <td>0</td>\n",
              "    </tr>\n",
              "    <tr>\n",
              "      <th>2</th>\n",
              "      <td>0.000004</td>\n",
              "      <td>0.999997</td>\n",
              "      <td>0.000801</td>\n",
              "      <td>0.069351</td>\n",
              "      <td>1.35</td>\n",
              "      <td>0.012270</td>\n",
              "      <td>0.000000</td>\n",
              "      <td>1</td>\n",
              "      <td>0</td>\n",
              "    </tr>\n",
              "    <tr>\n",
              "      <th>3</th>\n",
              "      <td>0.000004</td>\n",
              "      <td>0.999998</td>\n",
              "      <td>0.001601</td>\n",
              "      <td>0.000000</td>\n",
              "      <td>0.00</td>\n",
              "      <td>0.003067</td>\n",
              "      <td>0.994521</td>\n",
              "      <td>1</td>\n",
              "      <td>0</td>\n",
              "    </tr>\n",
              "    <tr>\n",
              "      <th>4</th>\n",
              "      <td>0.000004</td>\n",
              "      <td>0.999997</td>\n",
              "      <td>0.000000</td>\n",
              "      <td>0.015660</td>\n",
              "      <td>0.19</td>\n",
              "      <td>0.000000</td>\n",
              "      <td>0.000000</td>\n",
              "      <td>1</td>\n",
              "      <td>0</td>\n",
              "    </tr>\n",
              "    <tr>\n",
              "      <th>...</th>\n",
              "      <td>...</td>\n",
              "      <td>...</td>\n",
              "      <td>...</td>\n",
              "      <td>...</td>\n",
              "      <td>...</td>\n",
              "      <td>...</td>\n",
              "      <td>...</td>\n",
              "      <td>...</td>\n",
              "      <td>...</td>\n",
              "    </tr>\n",
              "    <tr>\n",
              "      <th>3760</th>\n",
              "      <td>0.000002</td>\n",
              "      <td>0.999997</td>\n",
              "      <td>0.000801</td>\n",
              "      <td>0.163311</td>\n",
              "      <td>2.15</td>\n",
              "      <td>0.000000</td>\n",
              "      <td>0.904110</td>\n",
              "      <td>0</td>\n",
              "      <td>1</td>\n",
              "    </tr>\n",
              "    <tr>\n",
              "      <th>3761</th>\n",
              "      <td>0.000008</td>\n",
              "      <td>0.999997</td>\n",
              "      <td>0.000000</td>\n",
              "      <td>0.008949</td>\n",
              "      <td>0.85</td>\n",
              "      <td>0.003067</td>\n",
              "      <td>1.000000</td>\n",
              "      <td>1</td>\n",
              "      <td>0</td>\n",
              "    </tr>\n",
              "    <tr>\n",
              "      <th>3762</th>\n",
              "      <td>0.000004</td>\n",
              "      <td>0.999997</td>\n",
              "      <td>0.000000</td>\n",
              "      <td>0.008949</td>\n",
              "      <td>0.30</td>\n",
              "      <td>0.000000</td>\n",
              "      <td>0.000000</td>\n",
              "      <td>0</td>\n",
              "      <td>1</td>\n",
              "    </tr>\n",
              "    <tr>\n",
              "      <th>3763</th>\n",
              "      <td>0.000007</td>\n",
              "      <td>0.999997</td>\n",
              "      <td>0.000801</td>\n",
              "      <td>0.004474</td>\n",
              "      <td>0.03</td>\n",
              "      <td>0.000000</td>\n",
              "      <td>0.000000</td>\n",
              "      <td>0</td>\n",
              "      <td>1</td>\n",
              "    </tr>\n",
              "    <tr>\n",
              "      <th>3764</th>\n",
              "      <td>0.000005</td>\n",
              "      <td>0.999996</td>\n",
              "      <td>0.004003</td>\n",
              "      <td>0.002237</td>\n",
              "      <td>0.01</td>\n",
              "      <td>0.000000</td>\n",
              "      <td>0.000000</td>\n",
              "      <td>1</td>\n",
              "      <td>0</td>\n",
              "    </tr>\n",
              "  </tbody>\n",
              "</table>\n",
              "<p>3765 rows × 9 columns</p>\n",
              "</div>"
            ],
            "text/plain": [
              "      latitude  longitude  ...  Private_room  Entire_home/apt\n",
              "0     0.000004   0.999997  ...             0                1\n",
              "1     0.000004   0.999997  ...             1                0\n",
              "2     0.000004   0.999997  ...             1                0\n",
              "3     0.000004   0.999998  ...             1                0\n",
              "4     0.000004   0.999997  ...             1                0\n",
              "...        ...        ...  ...           ...              ...\n",
              "3760  0.000002   0.999997  ...             0                1\n",
              "3761  0.000008   0.999997  ...             1                0\n",
              "3762  0.000004   0.999997  ...             0                1\n",
              "3763  0.000007   0.999997  ...             0                1\n",
              "3764  0.000005   0.999996  ...             1                0\n",
              "\n",
              "[3765 rows x 9 columns]"
            ]
          },
          "metadata": {
            "tags": []
          },
          "execution_count": 43
        }
      ]
    },
    {
      "cell_type": "markdown",
      "metadata": {
        "id": "zI4hLDJ1esW2"
      },
      "source": [
        "predict y_test"
      ]
    },
    {
      "cell_type": "code",
      "metadata": {
        "id": "rGLJNf4166sB",
        "outputId": "73b45f43-d31b-4cb3-dc28-e7700ae3c480",
        "colab": {
          "base_uri": "https://localhost:8080/",
          "height": 141
        }
      },
      "source": [
        "y_test_round = np.round(model.predict(test))\n",
        "y_test_round"
      ],
      "execution_count": 44,
      "outputs": [
        {
          "output_type": "execute_result",
          "data": {
            "text/plain": [
              "array([[150.],\n",
              "       [ 72.],\n",
              "       [ 68.],\n",
              "       ...,\n",
              "       [151.],\n",
              "       [161.],\n",
              "       [ 75.]], dtype=float32)"
            ]
          },
          "metadata": {
            "tags": []
          },
          "execution_count": 44
        }
      ]
    },
    {
      "cell_type": "code",
      "metadata": {
        "id": "Pi5GqmraeC3p",
        "outputId": "317b465f-2256-45e8-9cf1-a73c6833b45d",
        "colab": {
          "base_uri": "https://localhost:8080/",
          "height": 141
        }
      },
      "source": [
        "y_test = model.predict(test)\n",
        "y_test"
      ],
      "execution_count": 45,
      "outputs": [
        {
          "output_type": "execute_result",
          "data": {
            "text/plain": [
              "array([[149.86264 ],\n",
              "       [ 72.414154],\n",
              "       [ 68.201164],\n",
              "       ...,\n",
              "       [151.47427 ],\n",
              "       [160.61423 ],\n",
              "       [ 75.25267 ]], dtype=float32)"
            ]
          },
          "metadata": {
            "tags": []
          },
          "execution_count": 45
        }
      ]
    },
    {
      "cell_type": "code",
      "metadata": {
        "id": "h4DDoJST7G9l",
        "outputId": "e6744f61-bfdb-4c28-a8bf-bb60386e16dd",
        "colab": {
          "base_uri": "https://localhost:8080/",
          "height": 34
        }
      },
      "source": [
        "print('Predictions mean:', y_test.mean())"
      ],
      "execution_count": 46,
      "outputs": [
        {
          "output_type": "stream",
          "text": [
            "Predictions mean: 126.14323\n"
          ],
          "name": "stdout"
        }
      ]
    },
    {
      "cell_type": "code",
      "metadata": {
        "id": "chnyZQ9y7ecU",
        "outputId": "1ab07140-059e-4ef4-f259-c2d4d4ecdec3",
        "colab": {
          "base_uri": "https://localhost:8080/",
          "height": 34
        }
      },
      "source": [
        "print('Predictions std:', y_test.std())"
      ],
      "execution_count": 47,
      "outputs": [
        {
          "output_type": "stream",
          "text": [
            "Predictions std: 56.023148\n"
          ],
          "name": "stdout"
        }
      ]
    },
    {
      "cell_type": "code",
      "metadata": {
        "id": "ndA-krY9EfGy"
      },
      "source": [
        "K.clear_session()\n",
        "del model"
      ],
      "execution_count": 48,
      "outputs": []
    },
    {
      "cell_type": "markdown",
      "metadata": {
        "id": "-efdiUtOevfV"
      },
      "source": [
        "save y_test for assignment"
      ]
    },
    {
      "cell_type": "code",
      "metadata": {
        "id": "ZqXhWNqtCwxH"
      },
      "source": [
        "np.savetxt('y_test_round.txt', y_test_round, delimiter='\\n', fmt='%d') \n",
        "np.savetxt('y_test.txt', y_test, delimiter='\\n', fmt='%f') "
      ],
      "execution_count": 49,
      "outputs": []
    }
  ]
}